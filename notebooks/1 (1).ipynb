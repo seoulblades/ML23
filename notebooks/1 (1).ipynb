{
 "cells": [
  {
   "cell_type": "markdown",
   "id": "43dfc1f0",
   "metadata": {},
   "source": [
    "# Лабораторная работа 1. Введение в машинное обучение. Обучение с учителем. Задача регрессии"
   ]
  },
  {
   "cell_type": "markdown",
   "id": "af0b0580",
   "metadata": {},
   "source": [
    "<b>Традиционное предупреждение для всех лабораторных работ:</b> перед обучением моделей необходимо выполнить предварительную обработку данных, которая <b>обязательно</b> включает в себя:\n",
    "- заполнение пропущенных значений (рекомедуется логика заполнения пропусков на основе типа данных, которая использовалась в РГР по Практикуму);\n",
    "- преобразование категориальных признаков в числовые (используйте one-hot кодирование или map; используйте знания с Практикума)."
   ]
  },
  {
   "cell_type": "markdown",
   "id": "b08d9e23",
   "metadata": {},
   "source": [
    "Предобработка может включать в себя другие действия, но выполнение описанных выше действий обязательно."
   ]
  },
  {
   "cell_type": "markdown",
   "id": "05aab9d1",
   "metadata": {},
   "source": [
    "Сделайте это один раз и сохраните в отдельный csv файл, а потом его используйте."
   ]
  },
  {
   "cell_type": "markdown",
   "id": "e053af5b",
   "metadata": {},
   "source": [
    "<b>Выполните следующие задания:</b>\n",
    "- загрузите датасет для регрессии, выделите целевой признак и предикторы, разбейте данные на обучающую и тестовую выборку;\n",
    "- решите задачу регрессии на ваших данных с использованием моделей sklearn (линейная регрессия + L1, L2), для моделей с регуляризациями подберите гиперпараметр;\n",
    "- решите задачу регрессии на ваших данных с использованием моделей sklearn (полиномиальная регрессия + L1, L2), для моделей с регуляризациями подберите гиперпараметр;\n",
    "- вычислите значения метрик $R^2$, MAE, MSE, RMSE, MAPE для всех обученных моделей; выберите лучшую модель;\n",
    "- самостоятельно реализуйте (желательно в виде класса) модель линейной регрессии с регуляризацией (можете выбрать L1 или L2);\n",
    "- самостоятельно реализуйте вычисление всех используемых метрик (в виде функций, принимающих два аргумента);\n",
    "- обучите вашу модель линейной регрессии на ваших данных; оцените качество с помощью реализованных вами метрик."
   ]
  },
  {
   "cell_type": "code",
   "execution_count": 6,
   "id": "f500beec",
   "metadata": {
    "scrolled": true
   },
   "outputs": [
    {
     "data": {
      "text/plain": [
       "'\\ndf = pd.read_csv(\\'..\\\\data\\\\one-hot_encoded_cars.csv\\')\\n\\ny = df[\"price_usd\"]\\nX = df.drop([\"price_usd\"], axis=1)\\nX\\n'"
      ]
     },
     "execution_count": 6,
     "metadata": {},
     "output_type": "execute_result"
    }
   ],
   "source": [
    "# пишите код здесь и в ячейках ниже\n",
    "import pandas as pd\n",
    "import numpy as np\n",
    "\n",
    "#df = pd.read_csv('..\\data\\cars.csv')\n",
    "\n",
    "#df.info()\n",
    "#df.describe()\n",
    "\n",
    "#df = df.replace({ True : 1 , False : 0 })\n",
    "\n",
    "#s=pd.get_dummies(df)\n",
    "#s.to_csv('..\\data\\one-hot_encoded_cars.csv', index=False)\n",
    "\n",
    "\n",
    "#Проверка датасета на пустые значения\n",
    "\n",
    "#missing_data = df.isnull()\n",
    "#for column in missing_data.columns.values.tolist():\n",
    "#    print(column)\n",
    "#    print(missing_data[column].value_counts())\n",
    "#    print(\" \")\n",
    "#df.isnull().sum()    \n",
    "#df.info()\n",
    "\n",
    "\n",
    "#Замена NaN значений в столбце объема двигателя\n",
    "\n",
    "#vnn = df['engine_capacity'].dropna()\n",
    "#df['engine_capacity'] = df['engine_capacity'].fillna(round(sum(vnn)/len(vnn)))\n",
    "\n",
    "\n",
    "\n",
    "\"\"\"\n",
    "df = pd.read_csv('..\\data\\one-hot_encoded_cars.csv')\n",
    "\n",
    "y = df[\"price_usd\"]\n",
    "X = df.drop([\"price_usd\"], axis=1)\n",
    "X\n",
    "\"\"\"\n",
    "\n",
    "\n",
    "\n",
    "\n",
    "#Датасет предобработан: значения False/True заменены на 0/1;\n",
    "#Выполнено one-hot кодирование; пустые значения в датафрейме заменены;\n",
    "#Выделены целевой признак и предикторы\n"
   ]
  },
  {
   "cell_type": "code",
   "execution_count": 7,
   "id": "979b6032",
   "metadata": {},
   "outputs": [
    {
     "data": {
      "text/html": [
       "<div>\n",
       "<style scoped>\n",
       "    .dataframe tbody tr th:only-of-type {\n",
       "        vertical-align: middle;\n",
       "    }\n",
       "\n",
       "    .dataframe tbody tr th {\n",
       "        vertical-align: top;\n",
       "    }\n",
       "\n",
       "    .dataframe thead th {\n",
       "        text-align: right;\n",
       "    }\n",
       "</style>\n",
       "<table border=\"1\" class=\"dataframe\">\n",
       "  <thead>\n",
       "    <tr style=\"text-align: right;\">\n",
       "      <th></th>\n",
       "      <th>odometer_value</th>\n",
       "      <th>year_produced</th>\n",
       "      <th>engine_has_gas</th>\n",
       "      <th>engine_capacity</th>\n",
       "      <th>has_warranty</th>\n",
       "      <th>is_exchangeable</th>\n",
       "      <th>number_of_photos</th>\n",
       "      <th>up_counter</th>\n",
       "      <th>feature_0</th>\n",
       "      <th>feature_1</th>\n",
       "      <th>...</th>\n",
       "      <th>body_type_sedan</th>\n",
       "      <th>body_type_suv</th>\n",
       "      <th>body_type_universal</th>\n",
       "      <th>body_type_van</th>\n",
       "      <th>state_emergency</th>\n",
       "      <th>state_new</th>\n",
       "      <th>state_owned</th>\n",
       "      <th>drivetrain_all</th>\n",
       "      <th>drivetrain_front</th>\n",
       "      <th>drivetrain_rear</th>\n",
       "    </tr>\n",
       "  </thead>\n",
       "  <tbody>\n",
       "    <tr>\n",
       "      <th>0</th>\n",
       "      <td>190000</td>\n",
       "      <td>2010</td>\n",
       "      <td>0</td>\n",
       "      <td>2.5</td>\n",
       "      <td>0</td>\n",
       "      <td>0</td>\n",
       "      <td>9</td>\n",
       "      <td>13</td>\n",
       "      <td>0</td>\n",
       "      <td>1</td>\n",
       "      <td>...</td>\n",
       "      <td>0</td>\n",
       "      <td>0</td>\n",
       "      <td>1</td>\n",
       "      <td>0</td>\n",
       "      <td>0</td>\n",
       "      <td>0</td>\n",
       "      <td>1</td>\n",
       "      <td>1</td>\n",
       "      <td>0</td>\n",
       "      <td>0</td>\n",
       "    </tr>\n",
       "    <tr>\n",
       "      <th>1</th>\n",
       "      <td>290000</td>\n",
       "      <td>2002</td>\n",
       "      <td>0</td>\n",
       "      <td>3.0</td>\n",
       "      <td>0</td>\n",
       "      <td>1</td>\n",
       "      <td>12</td>\n",
       "      <td>54</td>\n",
       "      <td>0</td>\n",
       "      <td>1</td>\n",
       "      <td>...</td>\n",
       "      <td>0</td>\n",
       "      <td>0</td>\n",
       "      <td>1</td>\n",
       "      <td>0</td>\n",
       "      <td>0</td>\n",
       "      <td>0</td>\n",
       "      <td>1</td>\n",
       "      <td>1</td>\n",
       "      <td>0</td>\n",
       "      <td>0</td>\n",
       "    </tr>\n",
       "    <tr>\n",
       "      <th>2</th>\n",
       "      <td>402000</td>\n",
       "      <td>2001</td>\n",
       "      <td>0</td>\n",
       "      <td>2.5</td>\n",
       "      <td>0</td>\n",
       "      <td>1</td>\n",
       "      <td>4</td>\n",
       "      <td>72</td>\n",
       "      <td>0</td>\n",
       "      <td>1</td>\n",
       "      <td>...</td>\n",
       "      <td>0</td>\n",
       "      <td>1</td>\n",
       "      <td>0</td>\n",
       "      <td>0</td>\n",
       "      <td>0</td>\n",
       "      <td>0</td>\n",
       "      <td>1</td>\n",
       "      <td>1</td>\n",
       "      <td>0</td>\n",
       "      <td>0</td>\n",
       "    </tr>\n",
       "    <tr>\n",
       "      <th>3</th>\n",
       "      <td>10000</td>\n",
       "      <td>1999</td>\n",
       "      <td>0</td>\n",
       "      <td>3.0</td>\n",
       "      <td>0</td>\n",
       "      <td>1</td>\n",
       "      <td>9</td>\n",
       "      <td>42</td>\n",
       "      <td>1</td>\n",
       "      <td>0</td>\n",
       "      <td>...</td>\n",
       "      <td>1</td>\n",
       "      <td>0</td>\n",
       "      <td>0</td>\n",
       "      <td>0</td>\n",
       "      <td>0</td>\n",
       "      <td>0</td>\n",
       "      <td>1</td>\n",
       "      <td>1</td>\n",
       "      <td>0</td>\n",
       "      <td>0</td>\n",
       "    </tr>\n",
       "    <tr>\n",
       "      <th>4</th>\n",
       "      <td>280000</td>\n",
       "      <td>2001</td>\n",
       "      <td>0</td>\n",
       "      <td>2.5</td>\n",
       "      <td>0</td>\n",
       "      <td>1</td>\n",
       "      <td>14</td>\n",
       "      <td>7</td>\n",
       "      <td>0</td>\n",
       "      <td>1</td>\n",
       "      <td>...</td>\n",
       "      <td>0</td>\n",
       "      <td>0</td>\n",
       "      <td>1</td>\n",
       "      <td>0</td>\n",
       "      <td>0</td>\n",
       "      <td>0</td>\n",
       "      <td>1</td>\n",
       "      <td>1</td>\n",
       "      <td>0</td>\n",
       "      <td>0</td>\n",
       "    </tr>\n",
       "    <tr>\n",
       "      <th>...</th>\n",
       "      <td>...</td>\n",
       "      <td>...</td>\n",
       "      <td>...</td>\n",
       "      <td>...</td>\n",
       "      <td>...</td>\n",
       "      <td>...</td>\n",
       "      <td>...</td>\n",
       "      <td>...</td>\n",
       "      <td>...</td>\n",
       "      <td>...</td>\n",
       "      <td>...</td>\n",
       "      <td>...</td>\n",
       "      <td>...</td>\n",
       "      <td>...</td>\n",
       "      <td>...</td>\n",
       "      <td>...</td>\n",
       "      <td>...</td>\n",
       "      <td>...</td>\n",
       "      <td>...</td>\n",
       "      <td>...</td>\n",
       "      <td>...</td>\n",
       "    </tr>\n",
       "    <tr>\n",
       "      <th>38526</th>\n",
       "      <td>290000</td>\n",
       "      <td>2000</td>\n",
       "      <td>0</td>\n",
       "      <td>3.5</td>\n",
       "      <td>0</td>\n",
       "      <td>1</td>\n",
       "      <td>5</td>\n",
       "      <td>85</td>\n",
       "      <td>0</td>\n",
       "      <td>1</td>\n",
       "      <td>...</td>\n",
       "      <td>1</td>\n",
       "      <td>0</td>\n",
       "      <td>0</td>\n",
       "      <td>0</td>\n",
       "      <td>0</td>\n",
       "      <td>0</td>\n",
       "      <td>1</td>\n",
       "      <td>0</td>\n",
       "      <td>1</td>\n",
       "      <td>0</td>\n",
       "    </tr>\n",
       "    <tr>\n",
       "      <th>38527</th>\n",
       "      <td>321000</td>\n",
       "      <td>2004</td>\n",
       "      <td>0</td>\n",
       "      <td>2.2</td>\n",
       "      <td>0</td>\n",
       "      <td>1</td>\n",
       "      <td>4</td>\n",
       "      <td>20</td>\n",
       "      <td>0</td>\n",
       "      <td>1</td>\n",
       "      <td>...</td>\n",
       "      <td>0</td>\n",
       "      <td>0</td>\n",
       "      <td>0</td>\n",
       "      <td>0</td>\n",
       "      <td>0</td>\n",
       "      <td>0</td>\n",
       "      <td>1</td>\n",
       "      <td>0</td>\n",
       "      <td>1</td>\n",
       "      <td>0</td>\n",
       "    </tr>\n",
       "    <tr>\n",
       "      <th>38528</th>\n",
       "      <td>777957</td>\n",
       "      <td>2000</td>\n",
       "      <td>0</td>\n",
       "      <td>3.5</td>\n",
       "      <td>0</td>\n",
       "      <td>0</td>\n",
       "      <td>3</td>\n",
       "      <td>63</td>\n",
       "      <td>0</td>\n",
       "      <td>1</td>\n",
       "      <td>...</td>\n",
       "      <td>1</td>\n",
       "      <td>0</td>\n",
       "      <td>0</td>\n",
       "      <td>0</td>\n",
       "      <td>0</td>\n",
       "      <td>0</td>\n",
       "      <td>1</td>\n",
       "      <td>0</td>\n",
       "      <td>1</td>\n",
       "      <td>0</td>\n",
       "    </tr>\n",
       "    <tr>\n",
       "      <th>38529</th>\n",
       "      <td>20000</td>\n",
       "      <td>2001</td>\n",
       "      <td>0</td>\n",
       "      <td>2.0</td>\n",
       "      <td>0</td>\n",
       "      <td>1</td>\n",
       "      <td>7</td>\n",
       "      <td>156</td>\n",
       "      <td>0</td>\n",
       "      <td>1</td>\n",
       "      <td>...</td>\n",
       "      <td>0</td>\n",
       "      <td>0</td>\n",
       "      <td>0</td>\n",
       "      <td>0</td>\n",
       "      <td>0</td>\n",
       "      <td>0</td>\n",
       "      <td>1</td>\n",
       "      <td>0</td>\n",
       "      <td>1</td>\n",
       "      <td>0</td>\n",
       "    </tr>\n",
       "    <tr>\n",
       "      <th>38530</th>\n",
       "      <td>297729</td>\n",
       "      <td>2000</td>\n",
       "      <td>0</td>\n",
       "      <td>2.4</td>\n",
       "      <td>0</td>\n",
       "      <td>1</td>\n",
       "      <td>4</td>\n",
       "      <td>73</td>\n",
       "      <td>0</td>\n",
       "      <td>0</td>\n",
       "      <td>...</td>\n",
       "      <td>0</td>\n",
       "      <td>0</td>\n",
       "      <td>0</td>\n",
       "      <td>0</td>\n",
       "      <td>0</td>\n",
       "      <td>0</td>\n",
       "      <td>1</td>\n",
       "      <td>0</td>\n",
       "      <td>1</td>\n",
       "      <td>0</td>\n",
       "    </tr>\n",
       "  </tbody>\n",
       "</table>\n",
       "<p>38531 rows × 105 columns</p>\n",
       "</div>"
      ],
      "text/plain": [
       "       odometer_value  year_produced  engine_has_gas  engine_capacity  \\\n",
       "0              190000           2010               0              2.5   \n",
       "1              290000           2002               0              3.0   \n",
       "2              402000           2001               0              2.5   \n",
       "3               10000           1999               0              3.0   \n",
       "4              280000           2001               0              2.5   \n",
       "...               ...            ...             ...              ...   \n",
       "38526          290000           2000               0              3.5   \n",
       "38527          321000           2004               0              2.2   \n",
       "38528          777957           2000               0              3.5   \n",
       "38529           20000           2001               0              2.0   \n",
       "38530          297729           2000               0              2.4   \n",
       "\n",
       "       has_warranty  is_exchangeable  number_of_photos  up_counter  feature_0  \\\n",
       "0                 0                0                 9          13          0   \n",
       "1                 0                1                12          54          0   \n",
       "2                 0                1                 4          72          0   \n",
       "3                 0                1                 9          42          1   \n",
       "4                 0                1                14           7          0   \n",
       "...             ...              ...               ...         ...        ...   \n",
       "38526             0                1                 5          85          0   \n",
       "38527             0                1                 4          20          0   \n",
       "38528             0                0                 3          63          0   \n",
       "38529             0                1                 7         156          0   \n",
       "38530             0                1                 4          73          0   \n",
       "\n",
       "       feature_1  ...  body_type_sedan  body_type_suv  body_type_universal  \\\n",
       "0              1  ...                0              0                    1   \n",
       "1              1  ...                0              0                    1   \n",
       "2              1  ...                0              1                    0   \n",
       "3              0  ...                1              0                    0   \n",
       "4              1  ...                0              0                    1   \n",
       "...          ...  ...              ...            ...                  ...   \n",
       "38526          1  ...                1              0                    0   \n",
       "38527          1  ...                0              0                    0   \n",
       "38528          1  ...                1              0                    0   \n",
       "38529          1  ...                0              0                    0   \n",
       "38530          0  ...                0              0                    0   \n",
       "\n",
       "       body_type_van  state_emergency  state_new  state_owned  drivetrain_all  \\\n",
       "0                  0                0          0            1               1   \n",
       "1                  0                0          0            1               1   \n",
       "2                  0                0          0            1               1   \n",
       "3                  0                0          0            1               1   \n",
       "4                  0                0          0            1               1   \n",
       "...              ...              ...        ...          ...             ...   \n",
       "38526              0                0          0            1               0   \n",
       "38527              0                0          0            1               0   \n",
       "38528              0                0          0            1               0   \n",
       "38529              0                0          0            1               0   \n",
       "38530              0                0          0            1               0   \n",
       "\n",
       "       drivetrain_front  drivetrain_rear  \n",
       "0                     0                0  \n",
       "1                     0                0  \n",
       "2                     0                0  \n",
       "3                     0                0  \n",
       "4                     0                0  \n",
       "...                 ...              ...  \n",
       "38526                 1                0  \n",
       "38527                 1                0  \n",
       "38528                 1                0  \n",
       "38529                 1                0  \n",
       "38530                 1                0  \n",
       "\n",
       "[38531 rows x 105 columns]"
      ]
     },
     "execution_count": 7,
     "metadata": {},
     "output_type": "execute_result"
    }
   ],
   "source": [
    "\"\"\"\n",
    "ddf = pd.read_csv('..\\data\\cars.csv')\n",
    "xxx = ddf.drop(columns = 'color')\n",
    "xxx['longtitude']=np.zeros(38531)\n",
    "xxx['latitude']=np.zeros(38531)\n",
    "towndata = {\n",
    "'мнд': np.float64(27.56152), 'мнш': np.float64(53.90454),\n",
    "'год': np.float64(30.98785), 'гош': np.float64(52.44118),\n",
    "'бд': np.float64(23.73405), 'бш': np.float64(52.09762),\n",
    "'мд': np.float64(30.33136), 'мш': np.float64(53.90072),\n",
    "'вд': np.float64(30.20162), 'вш': np.float64(55.18481),\n",
    "'гд': np.float64(23.81313), 'гш': np.float64(53.66935)\n",
    "\n",
    "}\n",
    "\n",
    "#print(towndata[\"Минск\"][1])\n",
    "for i in xxx['drivetrain']:\n",
    "    if i == \"front\":\n",
    "        i = int(0)\n",
    "    if i == \"rear\":\n",
    "        i = int(1)\n",
    "    if i == \"all\":\n",
    "        i = int(2)\n",
    "print(xxx['location_region'].unique())\n",
    "for i in range(len(xxx['location_region'])):\n",
    "    \n",
    "    #print(xxx['location_region'][i])\n",
    "    \n",
    "    if xxx['location_region'][i]=='Минская обл.':\n",
    "        xxx['longtitude'][i]=towndata['мнд']\n",
    "        xxx['latitude'][i]=towndata['мнш']\n",
    "        \n",
    "    if xxx['location_region'][i]=='Гомельская обл.':\n",
    "        xxx['longtitude'][i]=towndata['год']\n",
    "        xxx['latitude'][i]=towndata['гош']\n",
    "        \n",
    "    if xxx['location_region'][i]=='Брестская обл.':\n",
    "        xxx['longtitude'][i]=towndata['бд']\n",
    "        xxx['latitude'][i]=towndata['бш']\n",
    "        \n",
    "    if xxx['location_region'][i]=='Могилевская обл.':\n",
    "        xxx['longtitude'][i]=towndata['мд']\n",
    "        xxx['latitude'][i]=towndata['мш']\n",
    "        \n",
    "    if xxx['location_region'][i]=='Витебская обл.':\n",
    "        xxx['longtitude'][i]=towndata['вд']\n",
    "        xxx['latitude'][i]=towndata['вш']\n",
    "        \n",
    "    if xxx['location_region'][i]=='Гродненская обл.':\n",
    "        xxx['longtitude'][i]=towndata['гд']\n",
    "        xxx['latitude'][i]=towndata['гш']\n",
    "\n",
    "#for i in range(len(xxx['location_region'])):\n",
    "    #print(xxx['location_region'][i], xxx['latitude'][i], xxx['longtitude'][i])\n",
    "xxx.info()\n",
    "\n",
    "\n",
    "\n",
    "\n",
    "xxx = xxx.drop(columns = \"location_region\")\n",
    "vnn = xxx['engine_capacity'].dropna()\n",
    "xxx['engine_capacity'] = xxx['engine_capacity'].fillna(round(sum(vnn)/len(vnn)))\n",
    "xxx = xxx.replace({ True : 1 , False : 0 })\n",
    "xxx = xxx.drop(columns = \"model_name\")\n",
    "s=pd.get_dummies(xxx)\n",
    "s.to_csv('..\\data\\workinset.csv', index=False)\n",
    "\n",
    "\"\"\"\n",
    "# False/True replaced with 0/1\n",
    "# drivetrain replaced with 0/1/2 (front/rear/awd)\n",
    "# region_location object type column replaced with two float64 type columns longtitude, lattitude\n",
    "# color obj type column was dropped for less mem usage\n",
    "# hope im not going to drop model or manufacturer column due to mem error :blessrng:\n",
    "# model_name column was dropped :// saved 1100 columns\n",
    "# other data was one-hot encoded\n",
    "\n",
    "\n",
    "#df = pd.read_csv('..\\data\\one-hot_encoded_cars.csv')\n",
    "df = pd.read_csv('..\\data\\workinset.csv')\n",
    "\n",
    "y = df[\"price_usd\"]\n",
    "X = df.drop([\"price_usd\"], axis=1)\n",
    "X\n"
   ]
  },
  {
   "cell_type": "code",
   "execution_count": 8,
   "id": "919773df",
   "metadata": {},
   "outputs": [
    {
     "data": {
      "text/plain": [
       "((30824, 105), (30824,), (7707, 105), (7707,))"
      ]
     },
     "execution_count": 8,
     "metadata": {},
     "output_type": "execute_result"
    }
   ],
   "source": [
    "from sklearn.model_selection import train_test_split\n",
    "\n",
    "X_train, X_test, y_train, y_test = train_test_split(X, y, test_size=0.2)\n",
    "\n",
    "X_train.shape, y_train.shape, X_test.shape, y_test.shape\n",
    "\n",
    "#Данные разделены на обучающую и тестовую подборку\n"
   ]
  },
  {
   "cell_type": "code",
   "execution_count": 143,
   "id": "73d807ec",
   "metadata": {},
   "outputs": [
    {
     "data": {
      "text/plain": [
       "array([ 5836.39563372,  7446.28615327,  5717.91232714, ...,\n",
       "        3078.021665  ,  2174.26086098, 10841.87720311])"
      ]
     },
     "execution_count": 143,
     "metadata": {},
     "output_type": "execute_result"
    }
   ],
   "source": [
    "from sklearn.linear_model import LinearRegression, Lasso, Ridge\n",
    "lr = LinearRegression().fit(X_train, y_train)\n",
    "lr.predict(X_test)"
   ]
  },
  {
   "cell_type": "code",
   "execution_count": 10,
   "id": "b422a3e0",
   "metadata": {},
   "outputs": [],
   "source": [
    "import numpy as np\n",
    "from math import sqrt\n",
    "\n",
    "def MAE(y_test, y_predict):\n",
    "    return np.sum(abs(np.array(y_test)-np.array(y_predict)))/len(y_test)\n",
    "\n",
    "def MSE(y_test, y_predict):\n",
    "    return np.sum((np.array(y_test) - np.array(y_predict)) ** 2) / len(y_test)\n",
    "\n",
    "def RMSE(y_test, y_predict):\n",
    "    return sqrt(MSE(y_test, y_predict))\n",
    "\n",
    "def MAPE(y_test, y_predict):\n",
    "    return np.mean(abs((np.array(y_test) - np.array(y_predict)) / np.array(y_test)))\n",
    "\n",
    "def R2(y_test, y_predict):\n",
    "    return 1 - (MSE(y_test, y_predict) * len(y_test) / (np.sum((np.array(y_test) - np.array(y_test).mean()) ** 2) ))\n",
    "\n",
    "def maee(y_test, y_pred):\n",
    "    return np.mean(abs(y_test-y_pred))"
   ]
  },
  {
   "cell_type": "code",
   "execution_count": 145,
   "id": "1e2e5c7d",
   "metadata": {},
   "outputs": [
    {
     "name": "stdout",
     "output_type": "stream",
     "text": [
      "MAE: 2000.0001542667846\n",
      "MSE: 10338904.560351523\n",
      "RMSE: 3215.416700888319\n",
      "MAPE: 0.6679285212662228\n",
      "R^2: 0.7516225156771512\n"
     ]
    }
   ],
   "source": [
    "from sklearn.metrics import mean_squared_error, mean_absolute_error, mean_absolute_percentage_error\n",
    "from math import sqrt\n",
    "\n",
    "y_pred = lr.predict(X_test)\n",
    "\n",
    "print(f'MAE: {MAE(y_test, y_pred)}')\n",
    "print(f'MSE: {MSE(y_test, y_pred)}')\n",
    "print(f'RMSE: {RMSE(y_test, y_pred)}')\n",
    "print(f'MAPE: {MAPE(y_test, y_pred)}')\n",
    "print(f'R^2: {R2(y_test, y_pred)}')\n"
   ]
  },
  {
   "cell_type": "code",
   "execution_count": 146,
   "id": "2de407b1",
   "metadata": {},
   "outputs": [
    {
     "data": {
      "text/plain": [
       "array([-5.20027378e-03,  3.90068559e+02, -5.22382755e+02,  5.57921078e+02,\n",
       "        9.36579169e+02, -1.62691811e+02,  6.70443175e+01, -9.38453998e-01,\n",
       "        2.63930992e+02, -6.30825935e+02,  3.28670206e+02,  7.60435543e+02,\n",
       "        3.77589426e+01,  4.36305065e+01,  1.04330760e+03,  1.16296094e+03,\n",
       "       -6.66987125e+00,  1.76149910e+01,  1.63510507e+00, -3.45914566e+01,\n",
       "        4.70395443e+01,  2.01619489e+03, -1.48715389e+02,  2.10781161e+03,\n",
       "        2.28398440e+03, -1.68940782e+03, -6.70192393e+02, -4.57217988e+03,\n",
       "       -1.22029068e+03, -2.30908243e+02, -4.78925517e+02, -1.97917185e+03,\n",
       "       -1.72679593e+03, -2.30103852e+02, -4.82254907e+02,  1.74530074e+01,\n",
       "       -3.64844927e+03, -5.01693961e+03,  5.98659687e+02, -2.75306438e+02,\n",
       "        3.22773967e+02,  3.38791344e+03,  6.98116715e+03, -8.24521193e+02,\n",
       "       -5.05583182e+02, -3.59227502e+03, -4.62545109e+02,  1.69114976e+03,\n",
       "        5.00229865e+03, -4.05976270e+03, -1.37809006e+03,  2.32018794e+02,\n",
       "        2.59326856e+03,  3.00255786e+03, -1.67176695e+02, -3.87862807e+02,\n",
       "       -8.16194914e+01, -3.15923177e+02,  1.31538441e+02,  3.57644589e+03,\n",
       "       -5.87394373e+02, -1.50580415e+02,  9.48833770e+01,  4.26092740e+02,\n",
       "        1.72927483e+01, -3.66377631e+03, -6.81849099e+02, -1.24251961e+03,\n",
       "        2.11410414e+03,  1.29192784e+03,  1.26157715e+03, -1.44619557e+02,\n",
       "        3.66784112e+03, -1.80528415e+03,  4.65242571e+03, -5.05035619e+03,\n",
       "        2.10558162e+02, -2.10558162e+02, -1.64693788e+03,  1.84635058e+03,\n",
       "       -5.22382757e+02, -6.43249485e+02,  1.55593117e+03, -5.89711622e+02,\n",
       "       -9.10067142e+01,  1.84635058e+03, -1.75534386e+03,  1.71584408e+03,\n",
       "       -2.91869810e+02, -1.91145650e+03, -1.00588205e+03,  1.62734689e+03,\n",
       "        1.24476173e+03, -9.57993246e+02,  2.74696854e+03, -1.77704519e+03,\n",
       "        7.91439398e+02, -1.93968979e+03, -2.42424059e+02, -4.18047987e+03,\n",
       "        7.24917424e+03, -3.06869437e+03,  1.21226182e+03, -7.00727059e+02,\n",
       "       -5.11534761e+02])"
      ]
     },
     "execution_count": 146,
     "metadata": {},
     "output_type": "execute_result"
    }
   ],
   "source": [
    "len(lr.coef_)\n",
    "lr.coef_"
   ]
  },
  {
   "cell_type": "code",
   "execution_count": 147,
   "id": "32b5eeb3",
   "metadata": {},
   "outputs": [
    {
     "name": "stdout",
     "output_type": "stream",
     "text": [
      "MAE: 1999.6727173664526\n",
      "MSE: 10334688.688900713\n",
      "RMSE: 3214.7610624898257\n",
      "MAPE: 0.6675194098558966\n",
      "R^2: 0.7517237959954932\n"
     ]
    },
    {
     "data": {
      "text/plain": [
       "array([-5.20260348e-03,  3.89891066e+02, -5.00226605e+02,  5.60329186e+02,\n",
       "        9.80165121e+02, -1.62781697e+02,  6.71680757e+01, -9.35780074e-01,\n",
       "        2.64312794e+02, -6.31553682e+02,  3.29884598e+02,  7.59170563e+02,\n",
       "        3.83103919e+01,  4.34152574e+01,  1.04325599e+03,  1.16396590e+03,\n",
       "       -4.70560725e+00,  1.69787270e+01,  1.63621411e+00, -3.46088900e+01,\n",
       "        4.72728057e+01,  1.97367658e+03, -1.54065822e+02,  2.09810125e+03,\n",
       "        2.26854785e+03, -1.65395706e+03, -6.58070158e+02, -4.48392345e+03,\n",
       "       -1.22188609e+03, -2.38236009e+02, -4.83833164e+02, -1.94436676e+03,\n",
       "       -1.72225897e+03, -2.37079383e+02, -4.85730460e+02,  1.09994898e+01,\n",
       "       -3.58991546e+03, -4.87445012e+03,  5.91293365e+02, -2.79138165e+02,\n",
       "        3.09316031e+02,  3.34580173e+03,  6.83473224e+03, -8.21011039e+02,\n",
       "       -5.08615754e+02, -3.56529038e+03, -4.62896243e+02,  1.67387600e+03,\n",
       "        4.96141099e+03, -3.96025522e+03, -1.29628399e+03,  2.25741699e+02,\n",
       "        2.57786603e+03,  2.94921375e+03, -1.71152735e+02, -3.90542852e+02,\n",
       "       -8.79217618e+01, -3.20714962e+02,  1.19703030e+02,  3.50100907e+03,\n",
       "       -5.92064908e+02, -1.55579667e+02,  8.61625382e+01,  4.19642005e+02,\n",
       "        1.90678270e+01, -3.61480592e+03, -6.88177362e+02, -1.24104336e+03,\n",
       "        2.10647520e+03,  1.28560664e+03,  1.25172662e+03, -1.52636486e+02,\n",
       "        3.63257537e+03, -1.76129085e+03,  4.54487234e+03, -4.97022308e+03,\n",
       "        2.12303105e+02, -2.12303105e+02, -1.40222882e+03,  1.80916164e+03,\n",
       "       -5.00226605e+02, -5.98585273e+02,  1.23055826e+03, -5.38679206e+02,\n",
       "       -1.71670559e+02,  1.80916164e+03, -1.63749108e+03,  1.71483876e+03,\n",
       "       -2.67970636e+02, -1.88655257e+03, -9.83395762e+02,  1.43332461e+03,\n",
       "        1.26638554e+03, -9.34064948e+02,  2.73395087e+03, -1.75280705e+03,\n",
       "        8.08702637e+02, -1.91617962e+03, -2.16231838e+02, -4.15211129e+03,\n",
       "        7.20491018e+03, -3.05279890e+03,  1.21174916e+03, -7.04305978e+02,\n",
       "       -5.07443179e+02])"
      ]
     },
     "execution_count": 147,
     "metadata": {},
     "output_type": "execute_result"
    }
   ],
   "source": [
    "# L1\n",
    "ridge = Ridge(alpha=0.9).fit(X_train, y_train)\n",
    "y_pred = ridge.predict(X_test)\n",
    "\n",
    "print(f'MAE: {MAE(y_test, y_pred)}')\n",
    "print(f'MSE: {MSE(y_test, y_pred)}')\n",
    "print(f'RMSE: {RMSE(y_test, y_pred)}')\n",
    "print(f'MAPE: {MAPE(y_test, y_pred)}')\n",
    "print(f'R^2: {R2(y_test, y_pred)}')\n",
    "ridge.coef_"
   ]
  },
  {
   "cell_type": "code",
   "execution_count": 148,
   "id": "9166286c",
   "metadata": {},
   "outputs": [
    {
     "name": "stdout",
     "output_type": "stream",
     "text": [
      "MAE: 1999.0889374595959\n",
      "MSE: 10319694.689331023\n",
      "RMSE: 3212.4281609603386\n",
      "MAPE: 0.663685943811194\n",
      "R^2: 0.7520840055197535\n"
     ]
    },
    {
     "data": {
      "text/plain": [
       "array([-5.20601095e-03,  3.88665436e+02, -1.44732228e+02,  5.81432508e+02,\n",
       "        9.09378999e+02, -1.59943498e+02,  6.80704729e+01, -9.51212560e-01,\n",
       "        2.55952235e+02, -6.41446055e+02,  3.42163952e+02,  7.47673847e+02,\n",
       "        3.95741157e+01,  4.56813372e+01,  1.04144535e+03,  1.17479074e+03,\n",
       "        9.82425491e+00,  8.58155320e+00,  1.63569714e+00, -3.42780583e+01,\n",
       "        4.79598126e+01,  1.67093585e+03,  0.00000000e+00,  2.25997136e+03,\n",
       "        2.39234089e+03, -7.39846314e+02, -0.00000000e+00, -3.73422532e+03,\n",
       "       -9.32181928e+02, -0.00000000e+00, -2.66573843e+02, -1.17361107e+03,\n",
       "       -1.36568097e+03, -0.00000000e+00, -2.30843363e+02,  1.94248013e+02,\n",
       "       -2.93357650e+03, -3.85898445e+03,  7.56386622e+02, -3.63696568e+01,\n",
       "        2.51442230e+02,  3.30089144e+03,  6.50139235e+03, -2.96003150e+02,\n",
       "       -2.57318510e+02, -3.12563149e+03, -0.00000000e+00,  1.70286882e+03,\n",
       "        4.98692499e+03, -3.02484462e+03, -0.00000000e+00,  3.94761948e+02,\n",
       "        2.70431131e+03,  2.63860192e+03,  0.00000000e+00, -1.38713699e+02,\n",
       "        9.04327013e+01, -9.83096352e+01,  0.00000000e+00,  3.17033306e+03,\n",
       "       -3.74906859e+02,  0.00000000e+00,  0.00000000e+00,  5.02121318e+02,\n",
       "        1.98507682e+02, -2.99588463e+03, -3.92066404e+02, -8.88698418e+02,\n",
       "        2.28558896e+03,  1.47802372e+03,  1.39087787e+03,  0.00000000e+00,\n",
       "        3.63008318e+03, -7.29533412e+02,  4.14860919e+03, -4.29125842e+03,\n",
       "        4.42701397e+02, -0.00000000e+00, -0.00000000e+00,  1.32119732e+03,\n",
       "       -2.43215395e+02, -0.00000000e+00,  0.00000000e+00,  0.00000000e+00,\n",
       "        0.00000000e+00,  5.66402299e+01, -6.77068859e+02,  1.55542134e+03,\n",
       "       -0.00000000e+00, -1.61337779e+03, -6.46715204e+02,  0.00000000e+00,\n",
       "        1.48515350e+03, -6.76634156e+02,  2.65544330e+03, -1.49210975e+03,\n",
       "        1.00826303e+03, -1.65871213e+03,  1.30668469e+00, -1.02653618e+03,\n",
       "        1.02949146e+04,  0.00000000e+00,  1.68297050e+03, -2.54616754e+02,\n",
       "       -0.00000000e+00])"
      ]
     },
     "execution_count": 148,
     "metadata": {},
     "output_type": "execute_result"
    }
   ],
   "source": [
    "# L2\n",
    "lasso = Lasso(alpha=0.9).fit(X_train, y_train)\n",
    "y_pred = lasso.predict(X_test)\n",
    "\n",
    "print(f'MAE: {MAE(y_test, y_pred)}')\n",
    "print(f'MSE: {MSE(y_test, y_pred)}')\n",
    "print(f'RMSE: {RMSE(y_test, y_pred)}')\n",
    "print(f'MAPE: {MAPE(y_test, y_pred)}')\n",
    "print(f'R^2: {R2(y_test, y_pred)}')\n",
    "\n",
    "lasso.coef_"
   ]
  },
  {
   "cell_type": "code",
   "execution_count": 149,
   "id": "b8f8e44c",
   "metadata": {},
   "outputs": [
    {
     "data": {
      "text/plain": [
       "{'alpha': 0.9}"
      ]
     },
     "execution_count": 149,
     "metadata": {},
     "output_type": "execute_result"
    }
   ],
   "source": [
    "from sklearn.model_selection import GridSearchCV, RandomizedSearchCV\n",
    "import numpy as np\n",
    "\n",
    "\n",
    "parameters = {'alpha': np.arange(0, 1, 0.1)}\n",
    "\n",
    "\n",
    "# а теперь пробуем подобрать значение этого гиперпараметра с помощью GridSearchCV\n",
    "# оборачиваем нашу модель в объект GridSearchCV, туда же передаем словарь с параметрами и стартуем обучение\n",
    "ridge_optimal = GridSearchCV(Ridge(), parameters).fit(X_train, y_train)\n",
    "# выводим оптимальные значения параметров\n",
    "ridge_optimal.best_params_"
   ]
  },
  {
   "cell_type": "code",
   "execution_count": 150,
   "id": "712cfb12",
   "metadata": {},
   "outputs": [
    {
     "data": {
      "text/plain": [
       "{'alpha': 0.9}"
      ]
     },
     "execution_count": 150,
     "metadata": {},
     "output_type": "execute_result"
    }
   ],
   "source": [
    "ridge_optimal = GridSearchCV(Ridge(), parameters).fit(X_train, y_train)\n",
    "# выводим оптимальные значения параметров\n",
    "ridge_optimal.best_params_"
   ]
  },
  {
   "cell_type": "code",
   "execution_count": 155,
   "id": "0d3d1fe9",
   "metadata": {},
   "outputs": [],
   "source": [
    "data2=df\n",
    "\n",
    "#y = y_train.values.reshape(-1, 1)\n",
    "#X = X_train.values.reshape(-1, 105)\n",
    "\n",
    "y = data2[\"price_usd\"].values.reshape(-1, 1)\n",
    "X = data2.drop([\"price_usd\"], axis=1).values.reshape(-1, 105)"
   ]
  },
  {
   "cell_type": "code",
   "execution_count": 156,
   "id": "acfd6477",
   "metadata": {
    "scrolled": true
   },
   "outputs": [
    {
     "data": {
      "text/plain": [
       "array([[-5.34553522e-03,  3.86499432e+02, -4.90054571e+02,\n",
       "         5.85302071e+02,  1.40819644e+03, -1.77747192e+02,\n",
       "         6.74018210e+01, -3.43384976e-01,  2.62627140e+02,\n",
       "        -5.97378698e+02,  3.43086791e+02,  7.58765809e+02,\n",
       "         2.38589589e+01,  5.35379514e+01,  1.09606604e+03,\n",
       "         1.14745439e+03, -3.62723567e+00,  9.46570387e+00,\n",
       "         1.55604776e+00, -3.50378867e+01,  4.75907723e+01,\n",
       "         1.73215815e+03, -2.01850317e+02,  2.00096274e+03,\n",
       "         2.28764953e+03, -1.84484399e+03, -4.67912757e+02,\n",
       "        -4.53372297e+03, -1.08772563e+03, -2.74508310e+02,\n",
       "        -5.56836276e+02, -2.17190290e+03, -1.62857223e+03,\n",
       "        -3.40157775e+02, -5.61107440e+02, -6.72561739e+01,\n",
       "        -3.77277984e+03, -5.07563335e+03,  5.27397424e+02,\n",
       "        -2.69666561e+02,  7.17399445e+02,  3.34375509e+03,\n",
       "         6.60042149e+03, -7.61097482e+02, -5.32516573e+02,\n",
       "        -3.52382297e+03, -4.56753996e+02,  1.79286206e+03,\n",
       "         5.00195544e+03, -3.90533841e+03,  9.38026282e+01,\n",
       "         2.30050345e+02,  2.56815050e+03,  2.58456644e+03,\n",
       "        -1.99356994e+02, -4.03572092e+02, -1.08818640e+02,\n",
       "        -3.89660495e+02, -1.16197493e+01,  3.69338470e+03,\n",
       "        -6.33476959e+02, -2.21745050e+02,  6.66309211e+01,\n",
       "         3.19445945e+02, -5.93981805e+01, -3.65456919e+03,\n",
       "        -6.42457884e+02, -1.31444934e+03,  2.06172945e+03,\n",
       "         1.23640629e+03,  1.17748794e+03, -2.03154046e+02,\n",
       "         3.15957282e+03, -1.31100250e+03,  5.04337107e+03,\n",
       "        -5.05187335e+03,  2.11997892e+02, -2.11997892e+02,\n",
       "        -1.56980984e+03,  1.52857105e+03, -4.90054571e+02,\n",
       "        -6.26933485e+02,  1.60109176e+03, -4.42864909e+02,\n",
       "         3.12819187e+01,  1.52857105e+03, -1.55985297e+03,\n",
       "         1.98823992e+03, -1.59352547e+02, -1.80581459e+03,\n",
       "        -8.19841774e+02,  3.65913266e+02,  1.41291880e+03,\n",
       "        -8.51981188e+02,  2.65575099e+03, -1.67752858e+03,\n",
       "         7.82043690e+02, -1.83420177e+03, -5.61462176e+01,\n",
       "        -4.00164864e+03,  6.92621429e+03, -2.92456566e+03,\n",
       "         1.25924474e+03, -6.86764891e+02, -5.72479848e+02]])"
      ]
     },
     "execution_count": 156,
     "metadata": {},
     "output_type": "execute_result"
    }
   ],
   "source": [
    "lr = LinearRegression().fit(X, y)\n",
    "lr.coef_"
   ]
  },
  {
   "cell_type": "code",
   "execution_count": 157,
   "id": "67f603c7",
   "metadata": {},
   "outputs": [],
   "source": [
    "from sklearn.preprocessing import PolynomialFeatures\n",
    "# создаем объект, который позволит расширить множество предикторов\n",
    "pf = PolynomialFeatures(2)  \n",
    "# добавляем новые предикторы\n",
    "X_p=pf.fit_transform(X_train) \n",
    "#X_p\n",
    "X_p=pf.fit_transform(X) \n",
    "\n",
    "#X_t = pf.fit_transform(X_test)"
   ]
  },
  {
   "cell_type": "code",
   "execution_count": 159,
   "id": "5824f145",
   "metadata": {
    "scrolled": true
   },
   "outputs": [
    {
     "name": "stdout",
     "output_type": "stream",
     "text": [
      "-20710.915700435402\n"
     ]
    }
   ],
   "source": [
    "lr2 = LinearRegression().fit(X_p, y)\n",
    "lr2.coef_\n",
    "print(lr2.coef_[0][2])"
   ]
  },
  {
   "cell_type": "code",
   "execution_count": 160,
   "id": "6b49d15e",
   "metadata": {},
   "outputs": [],
   "source": [
    "X_d = X_p\n",
    "#y_d = lr2.coef_[0][2] + lr2.coef_[0][1]*X_d + lr2.coef_[0][0]*X_d**2\n",
    "#y_d\n",
    "\n"
   ]
  },
  {
   "cell_type": "code",
   "execution_count": 161,
   "id": "4f64a681",
   "metadata": {},
   "outputs": [
    {
     "name": "stdout",
     "output_type": "stream",
     "text": [
      "MAE: 1214.811525936857\n",
      "MSE: 3868281.146342858\n",
      "RMSE: 1966.7946375620556\n",
      "MAPE: 0.6568579319472332\n",
      "R^2: 0.9063825031055521\n"
     ]
    },
    {
     "data": {
      "text/plain": [
       "0.9063825031055521"
      ]
     },
     "execution_count": 161,
     "metadata": {},
     "output_type": "execute_result"
    }
   ],
   "source": [
    "# L1\n",
    "ridge = Ridge(alpha=0.5).fit(X_p, y)\n",
    "y_pred = ridge.predict(X_p)\n",
    "#y_pred = y_d\n",
    "print(f'MAE: {MAE(y, y_pred)}')\n",
    "print(f'MSE: {MSE(y, y_pred)}')\n",
    "print(f'RMSE: {RMSE(y, y_pred)}')\n",
    "print(f'MAPE: {MAPE(y, y_pred)}')\n",
    "print(f'R^2: {R2(y, y_pred)}')\n",
    "ridge.score(X_p, y)\n",
    "#ridge.coef_"
   ]
  },
  {
   "cell_type": "code",
   "execution_count": 162,
   "id": "79bfdd12",
   "metadata": {},
   "outputs": [
    {
     "name": "stderr",
     "output_type": "stream",
     "text": [
      "D:\\user - wrs\\sdfasf\\ML\\venv\\lib\\site-packages\\sklearn\\linear_model\\_coordinate_descent.py:631: ConvergenceWarning: Objective did not converge. You might want to increase the number of iterations, check the scale of the features or consider increasing regularisation. Duality gap: 1.170e+11, tolerance: 1.592e+08\n",
      "  model = cd_fast.enet_coordinate_descent(\n"
     ]
    },
    {
     "name": "stdout",
     "output_type": "stream",
     "text": [
      "MAE: 241187835.51433894\n",
      "MSE: 2949555725583.3623\n",
      "RMSE: 1717427.0655790197\n",
      "MAPE: 3.4593027989054854\n",
      "R^2: 0.8604713251596773\n"
     ]
    }
   ],
   "source": [
    "# L2\n",
    "lasso = Lasso(alpha=0.5).fit(X_p, y)\n",
    "y_pred = lasso.predict(X_p)\n",
    "print(f'MAE: {MAE(y, y_pred)}')\n",
    "print(f'MSE: {MSE(y, y_pred)}')\n",
    "print(f'RMSE: {RMSE(y, y_pred)}')\n",
    "print(f'MAPE: {MAPE(y, y_pred)}')\n",
    "print(f'R^2: {lasso.score(X_p, y)}')\n",
    "\n",
    "#lasso.coef_"
   ]
  },
  {
   "cell_type": "code",
   "execution_count": 91,
   "id": "e1ef08f2",
   "metadata": {},
   "outputs": [],
   "source": [
    "import numpy as np\n",
    "\n",
    "\n",
    "class LinReg:\n",
    "\n",
    "    def __init__(self, lr = 0.001, n_iters=250):\n",
    "        self.lr = lr\n",
    "        self.n_iters = n_iters\n",
    "        self.weights = None\n",
    "        self.bias = None\n",
    "\n",
    "    def fit(self, X, y):\n",
    "        n_samples, n_features = X.shape\n",
    "        self.weights = np.zeros(n_features)\n",
    "        self.bias = 0\n",
    "\n",
    "        for _ in range(self.n_iters):\n",
    "            y_pred = np.dot(X, self.weights) + self.bias\n",
    "\n",
    "            dw = (1/n_samples) * np.dot(X.T, (y_pred-y))\n",
    "            db = (1/n_samples) * np.sum(y_pred-y)\n",
    "\n",
    "            self.weights = self.weights - self.lr * dw\n",
    "            self.bias = self.bias - self.lr * db\n",
    "\n",
    "    def predict(self, X):\n",
    "        y_pred = np.dot(X, self.weights) + self.bias\n",
    "        return y_pred"
   ]
  },
  {
   "cell_type": "code",
   "execution_count": 92,
   "id": "71eaa1c7",
   "metadata": {},
   "outputs": [
    {
     "ename": "ValueError",
     "evalue": "Input contains NaN.",
     "output_type": "error",
     "traceback": [
      "\u001b[1;31m---------------------------------------------------------------------------\u001b[0m",
      "\u001b[1;31mValueError\u001b[0m                                Traceback (most recent call last)",
      "Cell \u001b[1;32mIn[92], line 11\u001b[0m\n\u001b[0;32m      9\u001b[0m \u001b[38;5;28;01mfrom\u001b[39;00m \u001b[38;5;21;01msklearn\u001b[39;00m\u001b[38;5;21;01m.\u001b[39;00m\u001b[38;5;21;01mmetrics\u001b[39;00m \u001b[38;5;28;01mimport\u001b[39;00m mean_squared_error, mean_absolute_error, mean_absolute_percentage_error\n\u001b[0;32m     10\u001b[0m \u001b[38;5;28;01mfrom\u001b[39;00m \u001b[38;5;21;01mmath\u001b[39;00m \u001b[38;5;28;01mimport\u001b[39;00m sqrt\n\u001b[1;32m---> 11\u001b[0m \u001b[38;5;28mprint\u001b[39m(\u001b[38;5;124mf\u001b[39m\u001b[38;5;124m'\u001b[39m\u001b[38;5;124mMAE: \u001b[39m\u001b[38;5;132;01m{\u001b[39;00m\u001b[43mmean_absolute_error\u001b[49m\u001b[43m(\u001b[49m\u001b[43my_test\u001b[49m\u001b[43m,\u001b[49m\u001b[38;5;250;43m \u001b[39;49m\u001b[43mpreds\u001b[49m\u001b[43m)\u001b[49m\u001b[38;5;132;01m}\u001b[39;00m\u001b[38;5;124m'\u001b[39m)\n\u001b[0;32m     12\u001b[0m \u001b[38;5;28mprint\u001b[39m(\u001b[38;5;124mf\u001b[39m\u001b[38;5;124m'\u001b[39m\u001b[38;5;124mMSE: \u001b[39m\u001b[38;5;132;01m{\u001b[39;00mmean_squared_error(y_test,\u001b[38;5;250m \u001b[39mpreds)\u001b[38;5;132;01m}\u001b[39;00m\u001b[38;5;124m'\u001b[39m)\n\u001b[0;32m     13\u001b[0m \u001b[38;5;28mprint\u001b[39m(\u001b[38;5;124mf\u001b[39m\u001b[38;5;124m'\u001b[39m\u001b[38;5;124mRMSE: \u001b[39m\u001b[38;5;132;01m{\u001b[39;00msqrt(mean_squared_error(y_test,\u001b[38;5;250m \u001b[39mpreds))\u001b[38;5;132;01m}\u001b[39;00m\u001b[38;5;124m'\u001b[39m)\n",
      "File \u001b[1;32mD:\\user - wrs\\sdfasf\\ML\\venv\\lib\\site-packages\\sklearn\\metrics\\_regression.py:196\u001b[0m, in \u001b[0;36mmean_absolute_error\u001b[1;34m(y_true, y_pred, sample_weight, multioutput)\u001b[0m\n\u001b[0;32m    141\u001b[0m \u001b[38;5;28;01mdef\u001b[39;00m \u001b[38;5;21mmean_absolute_error\u001b[39m(\n\u001b[0;32m    142\u001b[0m     y_true, y_pred, \u001b[38;5;241m*\u001b[39m, sample_weight\u001b[38;5;241m=\u001b[39m\u001b[38;5;28;01mNone\u001b[39;00m, multioutput\u001b[38;5;241m=\u001b[39m\u001b[38;5;124m\"\u001b[39m\u001b[38;5;124muniform_average\u001b[39m\u001b[38;5;124m\"\u001b[39m\n\u001b[0;32m    143\u001b[0m ):\n\u001b[0;32m    144\u001b[0m \u001b[38;5;250m    \u001b[39m\u001b[38;5;124;03m\"\"\"Mean absolute error regression loss.\u001b[39;00m\n\u001b[0;32m    145\u001b[0m \n\u001b[0;32m    146\u001b[0m \u001b[38;5;124;03m    Read more in the :ref:`User Guide <mean_absolute_error>`.\u001b[39;00m\n\u001b[1;32m   (...)\u001b[0m\n\u001b[0;32m    194\u001b[0m \u001b[38;5;124;03m    0.85...\u001b[39;00m\n\u001b[0;32m    195\u001b[0m \u001b[38;5;124;03m    \"\"\"\u001b[39;00m\n\u001b[1;32m--> 196\u001b[0m     y_type, y_true, y_pred, multioutput \u001b[38;5;241m=\u001b[39m \u001b[43m_check_reg_targets\u001b[49m\u001b[43m(\u001b[49m\n\u001b[0;32m    197\u001b[0m \u001b[43m        \u001b[49m\u001b[43my_true\u001b[49m\u001b[43m,\u001b[49m\u001b[43m \u001b[49m\u001b[43my_pred\u001b[49m\u001b[43m,\u001b[49m\u001b[43m \u001b[49m\u001b[43mmultioutput\u001b[49m\n\u001b[0;32m    198\u001b[0m \u001b[43m    \u001b[49m\u001b[43m)\u001b[49m\n\u001b[0;32m    199\u001b[0m     check_consistent_length(y_true, y_pred, sample_weight)\n\u001b[0;32m    200\u001b[0m     output_errors \u001b[38;5;241m=\u001b[39m np\u001b[38;5;241m.\u001b[39maverage(np\u001b[38;5;241m.\u001b[39mabs(y_pred \u001b[38;5;241m-\u001b[39m y_true), weights\u001b[38;5;241m=\u001b[39msample_weight, axis\u001b[38;5;241m=\u001b[39m\u001b[38;5;241m0\u001b[39m)\n",
      "File \u001b[1;32mD:\\user - wrs\\sdfasf\\ML\\venv\\lib\\site-packages\\sklearn\\metrics\\_regression.py:102\u001b[0m, in \u001b[0;36m_check_reg_targets\u001b[1;34m(y_true, y_pred, multioutput, dtype)\u001b[0m\n\u001b[0;32m    100\u001b[0m check_consistent_length(y_true, y_pred)\n\u001b[0;32m    101\u001b[0m y_true \u001b[38;5;241m=\u001b[39m check_array(y_true, ensure_2d\u001b[38;5;241m=\u001b[39m\u001b[38;5;28;01mFalse\u001b[39;00m, dtype\u001b[38;5;241m=\u001b[39mdtype)\n\u001b[1;32m--> 102\u001b[0m y_pred \u001b[38;5;241m=\u001b[39m \u001b[43mcheck_array\u001b[49m\u001b[43m(\u001b[49m\u001b[43my_pred\u001b[49m\u001b[43m,\u001b[49m\u001b[43m \u001b[49m\u001b[43mensure_2d\u001b[49m\u001b[38;5;241;43m=\u001b[39;49m\u001b[38;5;28;43;01mFalse\u001b[39;49;00m\u001b[43m,\u001b[49m\u001b[43m \u001b[49m\u001b[43mdtype\u001b[49m\u001b[38;5;241;43m=\u001b[39;49m\u001b[43mdtype\u001b[49m\u001b[43m)\u001b[49m\n\u001b[0;32m    104\u001b[0m \u001b[38;5;28;01mif\u001b[39;00m y_true\u001b[38;5;241m.\u001b[39mndim \u001b[38;5;241m==\u001b[39m \u001b[38;5;241m1\u001b[39m:\n\u001b[0;32m    105\u001b[0m     y_true \u001b[38;5;241m=\u001b[39m y_true\u001b[38;5;241m.\u001b[39mreshape((\u001b[38;5;241m-\u001b[39m\u001b[38;5;241m1\u001b[39m, \u001b[38;5;241m1\u001b[39m))\n",
      "File \u001b[1;32mD:\\user - wrs\\sdfasf\\ML\\venv\\lib\\site-packages\\sklearn\\utils\\validation.py:921\u001b[0m, in \u001b[0;36mcheck_array\u001b[1;34m(array, accept_sparse, accept_large_sparse, dtype, order, copy, force_all_finite, ensure_2d, allow_nd, ensure_min_samples, ensure_min_features, estimator, input_name)\u001b[0m\n\u001b[0;32m    915\u001b[0m         \u001b[38;5;28;01mraise\u001b[39;00m \u001b[38;5;167;01mValueError\u001b[39;00m(\n\u001b[0;32m    916\u001b[0m             \u001b[38;5;124m\"\u001b[39m\u001b[38;5;124mFound array with dim \u001b[39m\u001b[38;5;132;01m%d\u001b[39;00m\u001b[38;5;124m. \u001b[39m\u001b[38;5;132;01m%s\u001b[39;00m\u001b[38;5;124m expected <= 2.\u001b[39m\u001b[38;5;124m\"\u001b[39m\n\u001b[0;32m    917\u001b[0m             \u001b[38;5;241m%\u001b[39m (array\u001b[38;5;241m.\u001b[39mndim, estimator_name)\n\u001b[0;32m    918\u001b[0m         )\n\u001b[0;32m    920\u001b[0m     \u001b[38;5;28;01mif\u001b[39;00m force_all_finite:\n\u001b[1;32m--> 921\u001b[0m         \u001b[43m_assert_all_finite\u001b[49m\u001b[43m(\u001b[49m\n\u001b[0;32m    922\u001b[0m \u001b[43m            \u001b[49m\u001b[43marray\u001b[49m\u001b[43m,\u001b[49m\n\u001b[0;32m    923\u001b[0m \u001b[43m            \u001b[49m\u001b[43minput_name\u001b[49m\u001b[38;5;241;43m=\u001b[39;49m\u001b[43minput_name\u001b[49m\u001b[43m,\u001b[49m\n\u001b[0;32m    924\u001b[0m \u001b[43m            \u001b[49m\u001b[43mestimator_name\u001b[49m\u001b[38;5;241;43m=\u001b[39;49m\u001b[43mestimator_name\u001b[49m\u001b[43m,\u001b[49m\n\u001b[0;32m    925\u001b[0m \u001b[43m            \u001b[49m\u001b[43mallow_nan\u001b[49m\u001b[38;5;241;43m=\u001b[39;49m\u001b[43mforce_all_finite\u001b[49m\u001b[43m \u001b[49m\u001b[38;5;241;43m==\u001b[39;49m\u001b[43m \u001b[49m\u001b[38;5;124;43m\"\u001b[39;49m\u001b[38;5;124;43mallow-nan\u001b[39;49m\u001b[38;5;124;43m\"\u001b[39;49m\u001b[43m,\u001b[49m\n\u001b[0;32m    926\u001b[0m \u001b[43m        \u001b[49m\u001b[43m)\u001b[49m\n\u001b[0;32m    928\u001b[0m \u001b[38;5;28;01mif\u001b[39;00m ensure_min_samples \u001b[38;5;241m>\u001b[39m \u001b[38;5;241m0\u001b[39m:\n\u001b[0;32m    929\u001b[0m     n_samples \u001b[38;5;241m=\u001b[39m _num_samples(array)\n",
      "File \u001b[1;32mD:\\user - wrs\\sdfasf\\ML\\venv\\lib\\site-packages\\sklearn\\utils\\validation.py:161\u001b[0m, in \u001b[0;36m_assert_all_finite\u001b[1;34m(X, allow_nan, msg_dtype, estimator_name, input_name)\u001b[0m\n\u001b[0;32m    144\u001b[0m \u001b[38;5;28;01mif\u001b[39;00m estimator_name \u001b[38;5;129;01mand\u001b[39;00m input_name \u001b[38;5;241m==\u001b[39m \u001b[38;5;124m\"\u001b[39m\u001b[38;5;124mX\u001b[39m\u001b[38;5;124m\"\u001b[39m \u001b[38;5;129;01mand\u001b[39;00m has_nan_error:\n\u001b[0;32m    145\u001b[0m     \u001b[38;5;66;03m# Improve the error message on how to handle missing values in\u001b[39;00m\n\u001b[0;32m    146\u001b[0m     \u001b[38;5;66;03m# scikit-learn.\u001b[39;00m\n\u001b[0;32m    147\u001b[0m     msg_err \u001b[38;5;241m+\u001b[39m\u001b[38;5;241m=\u001b[39m (\n\u001b[0;32m    148\u001b[0m         \u001b[38;5;124mf\u001b[39m\u001b[38;5;124m\"\u001b[39m\u001b[38;5;130;01m\\n\u001b[39;00m\u001b[38;5;132;01m{\u001b[39;00mestimator_name\u001b[38;5;132;01m}\u001b[39;00m\u001b[38;5;124m does not accept missing values\u001b[39m\u001b[38;5;124m\"\u001b[39m\n\u001b[0;32m    149\u001b[0m         \u001b[38;5;124m\"\u001b[39m\u001b[38;5;124m encoded as NaN natively. For supervised learning, you might want\u001b[39m\u001b[38;5;124m\"\u001b[39m\n\u001b[1;32m   (...)\u001b[0m\n\u001b[0;32m    159\u001b[0m         \u001b[38;5;124m\"\u001b[39m\u001b[38;5;124m#estimators-that-handle-nan-values\u001b[39m\u001b[38;5;124m\"\u001b[39m\n\u001b[0;32m    160\u001b[0m     )\n\u001b[1;32m--> 161\u001b[0m \u001b[38;5;28;01mraise\u001b[39;00m \u001b[38;5;167;01mValueError\u001b[39;00m(msg_err)\n",
      "\u001b[1;31mValueError\u001b[0m: Input contains NaN."
     ]
    }
   ],
   "source": [
    "#print(np.seterr(all: 'ignore'))\n",
    "test = LinReg()\n",
    "X_train.values.reshape(-1, 105)\n",
    "X_train.values.reshape(-1, 105)\n",
    "y_train.values.reshape(-1, 1)\n",
    "test.fit(X_train, y_train)\n",
    "preds = test.predict(X_test)\n",
    "\n",
    "from sklearn.metrics import mean_squared_error, mean_absolute_error, mean_absolute_percentage_error\n",
    "from math import sqrt\n",
    "print(f'MAE: {mean_absolute_error(y_test, preds)}')\n",
    "print(f'MSE: {mean_squared_error(y_test, preds)}')\n",
    "print(f'RMSE: {sqrt(mean_squared_error(y_test, preds))}')\n",
    "print(f'MAPE: {sqrt(mean_absolute_percentage_error(y_test, preds))}')\n",
    "#print(f'R^2: {lr.score(X_test, y_test)}')\n"
   ]
  },
  {
   "cell_type": "code",
   "execution_count": null,
   "id": "0f79efed",
   "metadata": {},
   "outputs": [],
   "source": []
  },
  {
   "cell_type": "code",
   "execution_count": null,
   "id": "33b8f2e6",
   "metadata": {},
   "outputs": [],
   "source": []
  },
  {
   "cell_type": "code",
   "execution_count": null,
   "id": "35e06920",
   "metadata": {},
   "outputs": [],
   "source": []
  },
  {
   "cell_type": "code",
   "execution_count": null,
   "id": "9b108572",
   "metadata": {},
   "outputs": [],
   "source": []
  },
  {
   "cell_type": "code",
   "execution_count": null,
   "id": "18cb74a8",
   "metadata": {},
   "outputs": [],
   "source": []
  }
 ],
 "metadata": {
  "kernelspec": {
   "display_name": "Python 3 (ipykernel)",
   "language": "python",
   "name": "python3"
  },
  "language_info": {
   "codemirror_mode": {
    "name": "ipython",
    "version": 3
   },
   "file_extension": ".py",
   "mimetype": "text/x-python",
   "name": "python",
   "nbconvert_exporter": "python",
   "pygments_lexer": "ipython3",
   "version": "3.10.4"
  }
 },
 "nbformat": 4,
 "nbformat_minor": 5
}
