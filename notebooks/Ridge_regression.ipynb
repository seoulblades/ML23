{
 "cells": [
  {
   "cell_type": "code",
   "execution_count": 1,
   "metadata": {},
   "outputs": [],
   "source": [
    "import numpy as np\n",
    "import pandas as pd\n",
    "from sklearn.model_selection import train_test_split\n",
    "import matplotlib.pyplot as plt\n",
    "from sklearn.preprocessing import StandardScaler"
   ]
  },
  {
   "cell_type": "code",
   "execution_count": 2,
   "metadata": {},
   "outputs": [],
   "source": [
    "import numpy as np\n",
    "\n",
    "\n",
    "def MAE(predicted, real):\n",
    "    return np.sum(np.abs(predicted - real))/real.shape[0]\n",
    "\n",
    "def MSE(predicted, real):\n",
    "    return np.sum((real-predicted)**2)/real.shape[0]\n",
    "\n",
    "def RMSE(predicted, real):\n",
    "    return np.sqrt(MSE(predicted, real))\n",
    "\n",
    "def MAPE(predicted, real):\n",
    "    return np.sum(np.abs((predicted - real) / real))/real.shape[0]\n",
    "\n",
    "def R2(predicted, real):\n",
    "    return 1 - ((MSE(predicted, real) * np.mean(real)) / np.sum((real - predicted)**2))"
   ]
  },
  {
   "cell_type": "code",
   "execution_count": null,
   "metadata": {},
   "outputs": [],
   "source": []
  },
  {
   "cell_type": "code",
   "execution_count": 3,
   "metadata": {},
   "outputs": [],
   "source": [
    "class RidgeReg():\n",
    "  def __init__(self, alpha):\n",
    "    self.thetas = None\n",
    "    self.loss_history = []\n",
    "    self.alpha = alpha\n",
    " \n",
    "  def add_ones(self, x):\n",
    "    return np.c_[np.ones((len(x), 1)), x]\n",
    "\n",
    "  def objective(self, x, y, thetas, n):\n",
    "    return (np.sum((y - self.h(x, thetas)) ** 2) + self.alpha * np.dot(thetas, thetas)) / (2 * n)\n",
    " \n",
    "  def h(self, x, thetas):\n",
    "    return np.dot(x, thetas)\n",
    " \n",
    "  def gradient(self, x, y, thetas, n):\n",
    "    return (np.dot(-x.T, (y - self.h(x, thetas))) + (self.alpha * thetas)) / n\n",
    " \n",
    "  def fit(self, x, y, iter = 2000, learning_rate = 0.05):\n",
    "    x, y = x.copy(), y.copy()\n",
    "    x = self.add_ones(x)\n",
    " \n",
    "    thetas, n = np.zeros(x.shape[1]), x.shape[0]\n",
    " \n",
    "    loss_history = []\n",
    "    for i in range(iter):\n",
    "      loss_history.append(self.objective(x, y, thetas, n))\n",
    "      grad = self.gradient(x, y, thetas, n)\n",
    "      thetas -= learning_rate * grad\n",
    "    self.thetas = thetas\n",
    "    self.loss_history = loss_history\n",
    "  def predict(self, x):\n",
    "    x = x.copy()\n",
    "    x = self.add_ones(x)\n",
    "    return np.dot(x, self.thetas)"
   ]
  },
  {
   "cell_type": "code",
   "execution_count": 4,
   "metadata": {},
   "outputs": [
    {
     "name": "stdout",
     "output_type": "stream",
     "text": [
      "MAE: 2297.8955910354157\n",
      "MAPE: 1.2705056401118358\n",
      "MSE: 12706021.620589316\n",
      "RMSE: 3564.55068986111\n",
      "R2: 0.4863023394685092\n"
     ]
    }
   ],
   "source": [
    "df = pd.read_csv( \"../data/beautiful_df.csv\" )\n",
    "# df.drop(['Unnamed: 0'], axis=1, inplace=True)\n",
    "Y = df[\"price_usd\"]\n",
    "X = df.drop([\"price_usd\"], axis=1)  \n",
    "\n",
    "X_train, X_test, Y_train, Y_test = train_test_split( X, Y, test_size = 1 / 3, random_state = 0 )\n",
    "\n",
    " \n",
    "scaler = StandardScaler()\n",
    " \n",
    "X_train = scaler.fit_transform(X_train)\n",
    "X_test = scaler.transform(X_test)\n",
    "\n",
    "ridge_gd = RidgeReg(alpha = 0.9)\n",
    " \n",
    "ridge_gd.fit(X_train, Y_train, iter = 500, learning_rate = 0.01)\n",
    "\n",
    "y_pred = ridge_gd.predict(X_test)\n",
    "\n",
    "print('MAE: ' + str(MAE(Y_test, y_pred)))\n",
    "print('MAPE: ' + str(MAPE(Y_test, y_pred)))\n",
    "print('MSE: ' + str(MSE(Y_test, y_pred)))\n",
    "print('RMSE: ' + str(RMSE(Y_test, y_pred)))\n",
    "print('R2: ' + str(R2(Y_test, y_pred)))"
   ]
  },
  {
   "cell_type": "code",
   "execution_count": 5,
   "metadata": {},
   "outputs": [
    {
     "data": {
      "text/plain": [
       "array([ 7079.16668359,  5866.6650147 ,  5853.82072122, ...,\n",
       "        8577.55312022,  4776.30090346, 10781.20734707])"
      ]
     },
     "execution_count": 5,
     "metadata": {},
     "output_type": "execute_result"
    }
   ],
   "source": [
    "y_pred"
   ]
  }
 ],
 "metadata": {
  "kernelspec": {
   "display_name": "Python 3 (ipykernel)",
   "language": "python",
   "name": "python3"
  },
  "language_info": {
   "codemirror_mode": {
    "name": "ipython",
    "version": 3
   },
   "file_extension": ".py",
   "mimetype": "text/x-python",
   "name": "python",
   "nbconvert_exporter": "python",
   "pygments_lexer": "ipython3",
   "version": "3.10.4"
  },
  "vscode": {
   "interpreter": {
    "hash": "4144813e17b6f5f448ed6aaed98153edd3ff37cd658fee1dbd1b201beaf41009"
   }
  }
 },
 "nbformat": 4,
 "nbformat_minor": 2
}
