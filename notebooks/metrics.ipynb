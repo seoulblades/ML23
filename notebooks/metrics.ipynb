{
 "cells": [
  {
   "cell_type": "code",
   "execution_count": null,
   "id": "beef904f",
   "metadata": {},
   "outputs": [],
   "source": [
    "import numpy as np\n",
    "from math import sqrt\n",
    "\n",
    "def MAE(y_test, y_ predict):\n",
    "    return np. sun(abs(np. array (y_test) - np.array(y_predict))) / len(y_test)\n",
    "\n",
    "def MSE(y_test, y_predict):\n",
    "    return np. sun((np. array(y_test) - np.array(y_predict)) ** 2) / len(y_test)\n",
    "\n",
    "def RUSE(y_test, y predict):\n",
    "    return sqrt(MSE(y_test, y_predict))\n",
    "\n",
    "def MAPE(y_test, y_predict):\n",
    "    return np.mean(abs((np.array(y_test) - np.array(y_predict)) / np.array(y_test)))\n",
    "\n",
    "def R_2(y_test, y predict):\n",
    "    return 1 - (MSE(y_test, y_predict) / (np.sum((np.array(y_test) - np.array(y_test).mean()) ** 2) / len(y_test)))\n"
   ]
  }
 ],
 "metadata": {
  "kernelspec": {
   "display_name": "Python 3 (ipykernel)",
   "language": "python",
   "name": "python3"
  },
  "language_info": {
   "codemirror_mode": {
    "name": "ipython",
    "version": 3
   },
   "file_extension": ".py",
   "mimetype": "text/x-python",
   "name": "python",
   "nbconvert_exporter": "python",
   "pygments_lexer": "ipython3",
   "version": "3.10.4"
  }
 },
 "nbformat": 4,
 "nbformat_minor": 5
}
