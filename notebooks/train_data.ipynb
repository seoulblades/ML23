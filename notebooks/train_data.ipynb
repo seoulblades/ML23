{
 "cells": [
  {
   "cell_type": "markdown",
   "metadata": {},
   "source": [
    "# Выделение целевого признака"
   ]
  },
  {
   "cell_type": "code",
   "execution_count": 1,
   "metadata": {},
   "outputs": [],
   "source": [
    "import pandas as pd\n",
    "import matplotlib.pyplot as plt\n",
    "import numpy as np"
   ]
  },
  {
   "cell_type": "code",
   "execution_count": 2,
   "metadata": {},
   "outputs": [],
   "source": [
    "data = pd.read_csv('../data/beautiful_df.csv')\n",
    "data.drop(['Unnamed: 0'], axis=1, inplace=True)"
   ]
  },
  {
   "cell_type": "code",
   "execution_count": 3,
   "metadata": {},
   "outputs": [
    {
     "data": {
      "text/html": [
       "<div>\n",
       "<style scoped>\n",
       "    .dataframe tbody tr th:only-of-type {\n",
       "        vertical-align: middle;\n",
       "    }\n",
       "\n",
       "    .dataframe tbody tr th {\n",
       "        vertical-align: top;\n",
       "    }\n",
       "\n",
       "    .dataframe thead th {\n",
       "        text-align: right;\n",
       "    }\n",
       "</style>\n",
       "<table border=\"1\" class=\"dataframe\">\n",
       "  <thead>\n",
       "    <tr style=\"text-align: right;\">\n",
       "      <th></th>\n",
       "      <th>manufacturer_name</th>\n",
       "      <th>model_name</th>\n",
       "      <th>transmission</th>\n",
       "      <th>color</th>\n",
       "      <th>odometer_value</th>\n",
       "      <th>year_produced</th>\n",
       "      <th>engine_fuel</th>\n",
       "      <th>engine_has_gas</th>\n",
       "      <th>engine_type</th>\n",
       "      <th>engine_capacity</th>\n",
       "      <th>...</th>\n",
       "      <th>feature_1</th>\n",
       "      <th>feature_2</th>\n",
       "      <th>feature_3</th>\n",
       "      <th>feature_4</th>\n",
       "      <th>feature_5</th>\n",
       "      <th>feature_6</th>\n",
       "      <th>feature_7</th>\n",
       "      <th>feature_8</th>\n",
       "      <th>feature_9</th>\n",
       "      <th>duration_listed</th>\n",
       "    </tr>\n",
       "  </thead>\n",
       "  <tbody>\n",
       "    <tr>\n",
       "      <th>0</th>\n",
       "      <td>0</td>\n",
       "      <td>0</td>\n",
       "      <td>1</td>\n",
       "      <td>0</td>\n",
       "      <td>190000</td>\n",
       "      <td>2010</td>\n",
       "      <td>0</td>\n",
       "      <td>0</td>\n",
       "      <td>0</td>\n",
       "      <td>2.5</td>\n",
       "      <td>...</td>\n",
       "      <td>1</td>\n",
       "      <td>1</td>\n",
       "      <td>1</td>\n",
       "      <td>0</td>\n",
       "      <td>1</td>\n",
       "      <td>0</td>\n",
       "      <td>1</td>\n",
       "      <td>1</td>\n",
       "      <td>1</td>\n",
       "      <td>16</td>\n",
       "    </tr>\n",
       "    <tr>\n",
       "      <th>1</th>\n",
       "      <td>0</td>\n",
       "      <td>0</td>\n",
       "      <td>1</td>\n",
       "      <td>1</td>\n",
       "      <td>290000</td>\n",
       "      <td>2002</td>\n",
       "      <td>0</td>\n",
       "      <td>0</td>\n",
       "      <td>0</td>\n",
       "      <td>3.0</td>\n",
       "      <td>...</td>\n",
       "      <td>1</td>\n",
       "      <td>0</td>\n",
       "      <td>0</td>\n",
       "      <td>1</td>\n",
       "      <td>1</td>\n",
       "      <td>0</td>\n",
       "      <td>0</td>\n",
       "      <td>0</td>\n",
       "      <td>1</td>\n",
       "      <td>83</td>\n",
       "    </tr>\n",
       "    <tr>\n",
       "      <th>2</th>\n",
       "      <td>0</td>\n",
       "      <td>1</td>\n",
       "      <td>1</td>\n",
       "      <td>2</td>\n",
       "      <td>402000</td>\n",
       "      <td>2001</td>\n",
       "      <td>0</td>\n",
       "      <td>0</td>\n",
       "      <td>0</td>\n",
       "      <td>2.5</td>\n",
       "      <td>...</td>\n",
       "      <td>1</td>\n",
       "      <td>0</td>\n",
       "      <td>0</td>\n",
       "      <td>0</td>\n",
       "      <td>0</td>\n",
       "      <td>0</td>\n",
       "      <td>0</td>\n",
       "      <td>1</td>\n",
       "      <td>1</td>\n",
       "      <td>151</td>\n",
       "    </tr>\n",
       "    <tr>\n",
       "      <th>3</th>\n",
       "      <td>0</td>\n",
       "      <td>2</td>\n",
       "      <td>0</td>\n",
       "      <td>1</td>\n",
       "      <td>10000</td>\n",
       "      <td>1999</td>\n",
       "      <td>0</td>\n",
       "      <td>0</td>\n",
       "      <td>0</td>\n",
       "      <td>3.0</td>\n",
       "      <td>...</td>\n",
       "      <td>0</td>\n",
       "      <td>0</td>\n",
       "      <td>0</td>\n",
       "      <td>0</td>\n",
       "      <td>0</td>\n",
       "      <td>0</td>\n",
       "      <td>0</td>\n",
       "      <td>0</td>\n",
       "      <td>0</td>\n",
       "      <td>86</td>\n",
       "    </tr>\n",
       "    <tr>\n",
       "      <th>4</th>\n",
       "      <td>0</td>\n",
       "      <td>3</td>\n",
       "      <td>1</td>\n",
       "      <td>3</td>\n",
       "      <td>280000</td>\n",
       "      <td>2001</td>\n",
       "      <td>0</td>\n",
       "      <td>0</td>\n",
       "      <td>0</td>\n",
       "      <td>2.5</td>\n",
       "      <td>...</td>\n",
       "      <td>1</td>\n",
       "      <td>0</td>\n",
       "      <td>1</td>\n",
       "      <td>1</td>\n",
       "      <td>0</td>\n",
       "      <td>0</td>\n",
       "      <td>0</td>\n",
       "      <td>0</td>\n",
       "      <td>1</td>\n",
       "      <td>7</td>\n",
       "    </tr>\n",
       "    <tr>\n",
       "      <th>...</th>\n",
       "      <td>...</td>\n",
       "      <td>...</td>\n",
       "      <td>...</td>\n",
       "      <td>...</td>\n",
       "      <td>...</td>\n",
       "      <td>...</td>\n",
       "      <td>...</td>\n",
       "      <td>...</td>\n",
       "      <td>...</td>\n",
       "      <td>...</td>\n",
       "      <td>...</td>\n",
       "      <td>...</td>\n",
       "      <td>...</td>\n",
       "      <td>...</td>\n",
       "      <td>...</td>\n",
       "      <td>...</td>\n",
       "      <td>...</td>\n",
       "      <td>...</td>\n",
       "      <td>...</td>\n",
       "      <td>...</td>\n",
       "      <td>...</td>\n",
       "    </tr>\n",
       "    <tr>\n",
       "      <th>38526</th>\n",
       "      <td>54</td>\n",
       "      <td>1108</td>\n",
       "      <td>1</td>\n",
       "      <td>0</td>\n",
       "      <td>290000</td>\n",
       "      <td>2000</td>\n",
       "      <td>0</td>\n",
       "      <td>0</td>\n",
       "      <td>0</td>\n",
       "      <td>3.5</td>\n",
       "      <td>...</td>\n",
       "      <td>1</td>\n",
       "      <td>0</td>\n",
       "      <td>0</td>\n",
       "      <td>1</td>\n",
       "      <td>1</td>\n",
       "      <td>0</td>\n",
       "      <td>0</td>\n",
       "      <td>1</td>\n",
       "      <td>1</td>\n",
       "      <td>301</td>\n",
       "    </tr>\n",
       "    <tr>\n",
       "      <th>38527</th>\n",
       "      <td>54</td>\n",
       "      <td>1111</td>\n",
       "      <td>0</td>\n",
       "      <td>1</td>\n",
       "      <td>321000</td>\n",
       "      <td>2004</td>\n",
       "      <td>2</td>\n",
       "      <td>0</td>\n",
       "      <td>1</td>\n",
       "      <td>2.2</td>\n",
       "      <td>...</td>\n",
       "      <td>1</td>\n",
       "      <td>0</td>\n",
       "      <td>0</td>\n",
       "      <td>1</td>\n",
       "      <td>1</td>\n",
       "      <td>0</td>\n",
       "      <td>0</td>\n",
       "      <td>1</td>\n",
       "      <td>1</td>\n",
       "      <td>317</td>\n",
       "    </tr>\n",
       "    <tr>\n",
       "      <th>38528</th>\n",
       "      <td>54</td>\n",
       "      <td>1108</td>\n",
       "      <td>1</td>\n",
       "      <td>1</td>\n",
       "      <td>777957</td>\n",
       "      <td>2000</td>\n",
       "      <td>0</td>\n",
       "      <td>0</td>\n",
       "      <td>0</td>\n",
       "      <td>3.5</td>\n",
       "      <td>...</td>\n",
       "      <td>1</td>\n",
       "      <td>0</td>\n",
       "      <td>0</td>\n",
       "      <td>1</td>\n",
       "      <td>1</td>\n",
       "      <td>0</td>\n",
       "      <td>0</td>\n",
       "      <td>1</td>\n",
       "      <td>1</td>\n",
       "      <td>369</td>\n",
       "    </tr>\n",
       "    <tr>\n",
       "      <th>38529</th>\n",
       "      <td>54</td>\n",
       "      <td>1111</td>\n",
       "      <td>0</td>\n",
       "      <td>3</td>\n",
       "      <td>20000</td>\n",
       "      <td>2001</td>\n",
       "      <td>0</td>\n",
       "      <td>0</td>\n",
       "      <td>0</td>\n",
       "      <td>2.0</td>\n",
       "      <td>...</td>\n",
       "      <td>1</td>\n",
       "      <td>0</td>\n",
       "      <td>0</td>\n",
       "      <td>0</td>\n",
       "      <td>0</td>\n",
       "      <td>0</td>\n",
       "      <td>0</td>\n",
       "      <td>0</td>\n",
       "      <td>1</td>\n",
       "      <td>490</td>\n",
       "    </tr>\n",
       "    <tr>\n",
       "      <th>38530</th>\n",
       "      <td>54</td>\n",
       "      <td>1106</td>\n",
       "      <td>1</td>\n",
       "      <td>0</td>\n",
       "      <td>297729</td>\n",
       "      <td>2000</td>\n",
       "      <td>0</td>\n",
       "      <td>0</td>\n",
       "      <td>0</td>\n",
       "      <td>2.4</td>\n",
       "      <td>...</td>\n",
       "      <td>0</td>\n",
       "      <td>0</td>\n",
       "      <td>0</td>\n",
       "      <td>0</td>\n",
       "      <td>0</td>\n",
       "      <td>0</td>\n",
       "      <td>0</td>\n",
       "      <td>0</td>\n",
       "      <td>1</td>\n",
       "      <td>632</td>\n",
       "    </tr>\n",
       "  </tbody>\n",
       "</table>\n",
       "<p>38531 rows × 30 columns</p>\n",
       "</div>"
      ],
      "text/plain": [
       "       manufacturer_name  model_name  transmission  color  odometer_value  \\\n",
       "0                      0           0             1      0          190000   \n",
       "1                      0           0             1      1          290000   \n",
       "2                      0           1             1      2          402000   \n",
       "3                      0           2             0      1           10000   \n",
       "4                      0           3             1      3          280000   \n",
       "...                  ...         ...           ...    ...             ...   \n",
       "38526                 54        1108             1      0          290000   \n",
       "38527                 54        1111             0      1          321000   \n",
       "38528                 54        1108             1      1          777957   \n",
       "38529                 54        1111             0      3           20000   \n",
       "38530                 54        1106             1      0          297729   \n",
       "\n",
       "       year_produced  engine_fuel  engine_has_gas  engine_type  \\\n",
       "0               2010            0               0            0   \n",
       "1               2002            0               0            0   \n",
       "2               2001            0               0            0   \n",
       "3               1999            0               0            0   \n",
       "4               2001            0               0            0   \n",
       "...              ...          ...             ...          ...   \n",
       "38526           2000            0               0            0   \n",
       "38527           2004            2               0            1   \n",
       "38528           2000            0               0            0   \n",
       "38529           2001            0               0            0   \n",
       "38530           2000            0               0            0   \n",
       "\n",
       "       engine_capacity  ...  feature_1  feature_2  feature_3  feature_4  \\\n",
       "0                  2.5  ...          1          1          1          0   \n",
       "1                  3.0  ...          1          0          0          1   \n",
       "2                  2.5  ...          1          0          0          0   \n",
       "3                  3.0  ...          0          0          0          0   \n",
       "4                  2.5  ...          1          0          1          1   \n",
       "...                ...  ...        ...        ...        ...        ...   \n",
       "38526              3.5  ...          1          0          0          1   \n",
       "38527              2.2  ...          1          0          0          1   \n",
       "38528              3.5  ...          1          0          0          1   \n",
       "38529              2.0  ...          1          0          0          0   \n",
       "38530              2.4  ...          0          0          0          0   \n",
       "\n",
       "       feature_5  feature_6  feature_7  feature_8  feature_9  duration_listed  \n",
       "0              1          0          1          1          1               16  \n",
       "1              1          0          0          0          1               83  \n",
       "2              0          0          0          1          1              151  \n",
       "3              0          0          0          0          0               86  \n",
       "4              0          0          0          0          1                7  \n",
       "...          ...        ...        ...        ...        ...              ...  \n",
       "38526          1          0          0          1          1              301  \n",
       "38527          1          0          0          1          1              317  \n",
       "38528          1          0          0          1          1              369  \n",
       "38529          0          0          0          0          1              490  \n",
       "38530          0          0          0          0          1              632  \n",
       "\n",
       "[38531 rows x 30 columns]"
      ]
     },
     "execution_count": 3,
     "metadata": {},
     "output_type": "execute_result"
    }
   ],
   "source": [
    "data"
   ]
  },
  {
   "cell_type": "code",
   "execution_count": 4,
   "metadata": {},
   "outputs": [
    {
     "data": {
      "text/plain": [
       "1500.00    637\n",
       "3500.00    568\n",
       "2000.00    561\n",
       "1000.00    552\n",
       "2500.00    546\n",
       "          ... \n",
       "6053.23      1\n",
       "9130.00      1\n",
       "8661.20      1\n",
       "4097.51      1\n",
       "5666.00      1\n",
       "Name: price_usd, Length: 2677, dtype: int64"
      ]
     },
     "execution_count": 4,
     "metadata": {},
     "output_type": "execute_result"
    }
   ],
   "source": [
    "data['price_usd'].value_counts()"
   ]
  },
  {
   "cell_type": "code",
   "execution_count": 5,
   "metadata": {},
   "outputs": [],
   "source": [
    "y = data[\"price_usd\"]\n",
    "X = data.drop([\"price_usd\"], axis=1)"
   ]
  },
  {
   "cell_type": "code",
   "execution_count": 6,
   "metadata": {},
   "outputs": [
    {
     "data": {
      "text/plain": [
       "0        10900.00\n",
       "1         5000.00\n",
       "2         2800.00\n",
       "3         9999.00\n",
       "4         2134.11\n",
       "           ...   \n",
       "38526     2750.00\n",
       "38527     4800.00\n",
       "38528     4300.00\n",
       "38529     4000.00\n",
       "38530     3200.00\n",
       "Name: price_usd, Length: 38531, dtype: float64"
      ]
     },
     "execution_count": 6,
     "metadata": {},
     "output_type": "execute_result"
    }
   ],
   "source": [
    "y"
   ]
  },
  {
   "cell_type": "code",
   "execution_count": 7,
   "metadata": {},
   "outputs": [
    {
     "data": {
      "text/html": [
       "<div>\n",
       "<style scoped>\n",
       "    .dataframe tbody tr th:only-of-type {\n",
       "        vertical-align: middle;\n",
       "    }\n",
       "\n",
       "    .dataframe tbody tr th {\n",
       "        vertical-align: top;\n",
       "    }\n",
       "\n",
       "    .dataframe thead th {\n",
       "        text-align: right;\n",
       "    }\n",
       "</style>\n",
       "<table border=\"1\" class=\"dataframe\">\n",
       "  <thead>\n",
       "    <tr style=\"text-align: right;\">\n",
       "      <th></th>\n",
       "      <th>manufacturer_name</th>\n",
       "      <th>model_name</th>\n",
       "      <th>transmission</th>\n",
       "      <th>color</th>\n",
       "      <th>odometer_value</th>\n",
       "      <th>year_produced</th>\n",
       "      <th>engine_fuel</th>\n",
       "      <th>engine_has_gas</th>\n",
       "      <th>engine_type</th>\n",
       "      <th>engine_capacity</th>\n",
       "      <th>...</th>\n",
       "      <th>feature_1</th>\n",
       "      <th>feature_2</th>\n",
       "      <th>feature_3</th>\n",
       "      <th>feature_4</th>\n",
       "      <th>feature_5</th>\n",
       "      <th>feature_6</th>\n",
       "      <th>feature_7</th>\n",
       "      <th>feature_8</th>\n",
       "      <th>feature_9</th>\n",
       "      <th>duration_listed</th>\n",
       "    </tr>\n",
       "  </thead>\n",
       "  <tbody>\n",
       "    <tr>\n",
       "      <th>0</th>\n",
       "      <td>0</td>\n",
       "      <td>0</td>\n",
       "      <td>1</td>\n",
       "      <td>0</td>\n",
       "      <td>190000</td>\n",
       "      <td>2010</td>\n",
       "      <td>0</td>\n",
       "      <td>0</td>\n",
       "      <td>0</td>\n",
       "      <td>2.5</td>\n",
       "      <td>...</td>\n",
       "      <td>1</td>\n",
       "      <td>1</td>\n",
       "      <td>1</td>\n",
       "      <td>0</td>\n",
       "      <td>1</td>\n",
       "      <td>0</td>\n",
       "      <td>1</td>\n",
       "      <td>1</td>\n",
       "      <td>1</td>\n",
       "      <td>16</td>\n",
       "    </tr>\n",
       "    <tr>\n",
       "      <th>1</th>\n",
       "      <td>0</td>\n",
       "      <td>0</td>\n",
       "      <td>1</td>\n",
       "      <td>1</td>\n",
       "      <td>290000</td>\n",
       "      <td>2002</td>\n",
       "      <td>0</td>\n",
       "      <td>0</td>\n",
       "      <td>0</td>\n",
       "      <td>3.0</td>\n",
       "      <td>...</td>\n",
       "      <td>1</td>\n",
       "      <td>0</td>\n",
       "      <td>0</td>\n",
       "      <td>1</td>\n",
       "      <td>1</td>\n",
       "      <td>0</td>\n",
       "      <td>0</td>\n",
       "      <td>0</td>\n",
       "      <td>1</td>\n",
       "      <td>83</td>\n",
       "    </tr>\n",
       "    <tr>\n",
       "      <th>2</th>\n",
       "      <td>0</td>\n",
       "      <td>1</td>\n",
       "      <td>1</td>\n",
       "      <td>2</td>\n",
       "      <td>402000</td>\n",
       "      <td>2001</td>\n",
       "      <td>0</td>\n",
       "      <td>0</td>\n",
       "      <td>0</td>\n",
       "      <td>2.5</td>\n",
       "      <td>...</td>\n",
       "      <td>1</td>\n",
       "      <td>0</td>\n",
       "      <td>0</td>\n",
       "      <td>0</td>\n",
       "      <td>0</td>\n",
       "      <td>0</td>\n",
       "      <td>0</td>\n",
       "      <td>1</td>\n",
       "      <td>1</td>\n",
       "      <td>151</td>\n",
       "    </tr>\n",
       "    <tr>\n",
       "      <th>3</th>\n",
       "      <td>0</td>\n",
       "      <td>2</td>\n",
       "      <td>0</td>\n",
       "      <td>1</td>\n",
       "      <td>10000</td>\n",
       "      <td>1999</td>\n",
       "      <td>0</td>\n",
       "      <td>0</td>\n",
       "      <td>0</td>\n",
       "      <td>3.0</td>\n",
       "      <td>...</td>\n",
       "      <td>0</td>\n",
       "      <td>0</td>\n",
       "      <td>0</td>\n",
       "      <td>0</td>\n",
       "      <td>0</td>\n",
       "      <td>0</td>\n",
       "      <td>0</td>\n",
       "      <td>0</td>\n",
       "      <td>0</td>\n",
       "      <td>86</td>\n",
       "    </tr>\n",
       "    <tr>\n",
       "      <th>4</th>\n",
       "      <td>0</td>\n",
       "      <td>3</td>\n",
       "      <td>1</td>\n",
       "      <td>3</td>\n",
       "      <td>280000</td>\n",
       "      <td>2001</td>\n",
       "      <td>0</td>\n",
       "      <td>0</td>\n",
       "      <td>0</td>\n",
       "      <td>2.5</td>\n",
       "      <td>...</td>\n",
       "      <td>1</td>\n",
       "      <td>0</td>\n",
       "      <td>1</td>\n",
       "      <td>1</td>\n",
       "      <td>0</td>\n",
       "      <td>0</td>\n",
       "      <td>0</td>\n",
       "      <td>0</td>\n",
       "      <td>1</td>\n",
       "      <td>7</td>\n",
       "    </tr>\n",
       "    <tr>\n",
       "      <th>...</th>\n",
       "      <td>...</td>\n",
       "      <td>...</td>\n",
       "      <td>...</td>\n",
       "      <td>...</td>\n",
       "      <td>...</td>\n",
       "      <td>...</td>\n",
       "      <td>...</td>\n",
       "      <td>...</td>\n",
       "      <td>...</td>\n",
       "      <td>...</td>\n",
       "      <td>...</td>\n",
       "      <td>...</td>\n",
       "      <td>...</td>\n",
       "      <td>...</td>\n",
       "      <td>...</td>\n",
       "      <td>...</td>\n",
       "      <td>...</td>\n",
       "      <td>...</td>\n",
       "      <td>...</td>\n",
       "      <td>...</td>\n",
       "      <td>...</td>\n",
       "    </tr>\n",
       "    <tr>\n",
       "      <th>38526</th>\n",
       "      <td>54</td>\n",
       "      <td>1108</td>\n",
       "      <td>1</td>\n",
       "      <td>0</td>\n",
       "      <td>290000</td>\n",
       "      <td>2000</td>\n",
       "      <td>0</td>\n",
       "      <td>0</td>\n",
       "      <td>0</td>\n",
       "      <td>3.5</td>\n",
       "      <td>...</td>\n",
       "      <td>1</td>\n",
       "      <td>0</td>\n",
       "      <td>0</td>\n",
       "      <td>1</td>\n",
       "      <td>1</td>\n",
       "      <td>0</td>\n",
       "      <td>0</td>\n",
       "      <td>1</td>\n",
       "      <td>1</td>\n",
       "      <td>301</td>\n",
       "    </tr>\n",
       "    <tr>\n",
       "      <th>38527</th>\n",
       "      <td>54</td>\n",
       "      <td>1111</td>\n",
       "      <td>0</td>\n",
       "      <td>1</td>\n",
       "      <td>321000</td>\n",
       "      <td>2004</td>\n",
       "      <td>2</td>\n",
       "      <td>0</td>\n",
       "      <td>1</td>\n",
       "      <td>2.2</td>\n",
       "      <td>...</td>\n",
       "      <td>1</td>\n",
       "      <td>0</td>\n",
       "      <td>0</td>\n",
       "      <td>1</td>\n",
       "      <td>1</td>\n",
       "      <td>0</td>\n",
       "      <td>0</td>\n",
       "      <td>1</td>\n",
       "      <td>1</td>\n",
       "      <td>317</td>\n",
       "    </tr>\n",
       "    <tr>\n",
       "      <th>38528</th>\n",
       "      <td>54</td>\n",
       "      <td>1108</td>\n",
       "      <td>1</td>\n",
       "      <td>1</td>\n",
       "      <td>777957</td>\n",
       "      <td>2000</td>\n",
       "      <td>0</td>\n",
       "      <td>0</td>\n",
       "      <td>0</td>\n",
       "      <td>3.5</td>\n",
       "      <td>...</td>\n",
       "      <td>1</td>\n",
       "      <td>0</td>\n",
       "      <td>0</td>\n",
       "      <td>1</td>\n",
       "      <td>1</td>\n",
       "      <td>0</td>\n",
       "      <td>0</td>\n",
       "      <td>1</td>\n",
       "      <td>1</td>\n",
       "      <td>369</td>\n",
       "    </tr>\n",
       "    <tr>\n",
       "      <th>38529</th>\n",
       "      <td>54</td>\n",
       "      <td>1111</td>\n",
       "      <td>0</td>\n",
       "      <td>3</td>\n",
       "      <td>20000</td>\n",
       "      <td>2001</td>\n",
       "      <td>0</td>\n",
       "      <td>0</td>\n",
       "      <td>0</td>\n",
       "      <td>2.0</td>\n",
       "      <td>...</td>\n",
       "      <td>1</td>\n",
       "      <td>0</td>\n",
       "      <td>0</td>\n",
       "      <td>0</td>\n",
       "      <td>0</td>\n",
       "      <td>0</td>\n",
       "      <td>0</td>\n",
       "      <td>0</td>\n",
       "      <td>1</td>\n",
       "      <td>490</td>\n",
       "    </tr>\n",
       "    <tr>\n",
       "      <th>38530</th>\n",
       "      <td>54</td>\n",
       "      <td>1106</td>\n",
       "      <td>1</td>\n",
       "      <td>0</td>\n",
       "      <td>297729</td>\n",
       "      <td>2000</td>\n",
       "      <td>0</td>\n",
       "      <td>0</td>\n",
       "      <td>0</td>\n",
       "      <td>2.4</td>\n",
       "      <td>...</td>\n",
       "      <td>0</td>\n",
       "      <td>0</td>\n",
       "      <td>0</td>\n",
       "      <td>0</td>\n",
       "      <td>0</td>\n",
       "      <td>0</td>\n",
       "      <td>0</td>\n",
       "      <td>0</td>\n",
       "      <td>1</td>\n",
       "      <td>632</td>\n",
       "    </tr>\n",
       "  </tbody>\n",
       "</table>\n",
       "<p>38531 rows × 29 columns</p>\n",
       "</div>"
      ],
      "text/plain": [
       "       manufacturer_name  model_name  transmission  color  odometer_value  \\\n",
       "0                      0           0             1      0          190000   \n",
       "1                      0           0             1      1          290000   \n",
       "2                      0           1             1      2          402000   \n",
       "3                      0           2             0      1           10000   \n",
       "4                      0           3             1      3          280000   \n",
       "...                  ...         ...           ...    ...             ...   \n",
       "38526                 54        1108             1      0          290000   \n",
       "38527                 54        1111             0      1          321000   \n",
       "38528                 54        1108             1      1          777957   \n",
       "38529                 54        1111             0      3           20000   \n",
       "38530                 54        1106             1      0          297729   \n",
       "\n",
       "       year_produced  engine_fuel  engine_has_gas  engine_type  \\\n",
       "0               2010            0               0            0   \n",
       "1               2002            0               0            0   \n",
       "2               2001            0               0            0   \n",
       "3               1999            0               0            0   \n",
       "4               2001            0               0            0   \n",
       "...              ...          ...             ...          ...   \n",
       "38526           2000            0               0            0   \n",
       "38527           2004            2               0            1   \n",
       "38528           2000            0               0            0   \n",
       "38529           2001            0               0            0   \n",
       "38530           2000            0               0            0   \n",
       "\n",
       "       engine_capacity  ...  feature_1  feature_2  feature_3  feature_4  \\\n",
       "0                  2.5  ...          1          1          1          0   \n",
       "1                  3.0  ...          1          0          0          1   \n",
       "2                  2.5  ...          1          0          0          0   \n",
       "3                  3.0  ...          0          0          0          0   \n",
       "4                  2.5  ...          1          0          1          1   \n",
       "...                ...  ...        ...        ...        ...        ...   \n",
       "38526              3.5  ...          1          0          0          1   \n",
       "38527              2.2  ...          1          0          0          1   \n",
       "38528              3.5  ...          1          0          0          1   \n",
       "38529              2.0  ...          1          0          0          0   \n",
       "38530              2.4  ...          0          0          0          0   \n",
       "\n",
       "       feature_5  feature_6  feature_7  feature_8  feature_9  duration_listed  \n",
       "0              1          0          1          1          1               16  \n",
       "1              1          0          0          0          1               83  \n",
       "2              0          0          0          1          1              151  \n",
       "3              0          0          0          0          0               86  \n",
       "4              0          0          0          0          1                7  \n",
       "...          ...        ...        ...        ...        ...              ...  \n",
       "38526          1          0          0          1          1              301  \n",
       "38527          1          0          0          1          1              317  \n",
       "38528          1          0          0          1          1              369  \n",
       "38529          0          0          0          0          1              490  \n",
       "38530          0          0          0          0          1              632  \n",
       "\n",
       "[38531 rows x 29 columns]"
      ]
     },
     "execution_count": 7,
     "metadata": {},
     "output_type": "execute_result"
    }
   ],
   "source": [
    "X"
   ]
  },
  {
   "cell_type": "markdown",
   "metadata": {},
   "source": [
    "## Разделение данных"
   ]
  },
  {
   "cell_type": "code",
   "execution_count": 8,
   "metadata": {},
   "outputs": [],
   "source": [
    "from sklearn.model_selection import train_test_split"
   ]
  },
  {
   "cell_type": "code",
   "execution_count": 9,
   "metadata": {},
   "outputs": [],
   "source": [
    "X_train, X_test, y_train, y_test = train_test_split(X, y, test_size=0.2)"
   ]
  },
  {
   "cell_type": "code",
   "execution_count": 10,
   "metadata": {},
   "outputs": [
    {
     "data": {
      "text/plain": [
       "((30824, 29), (30824,), (7707, 29), (7707,))"
      ]
     },
     "execution_count": 10,
     "metadata": {},
     "output_type": "execute_result"
    }
   ],
   "source": [
    "X_train.shape, y_train.shape, X_test.shape, y_test.shape"
   ]
  },
  {
   "cell_type": "markdown",
   "metadata": {},
   "source": [
    "# Линейная регрессия"
   ]
  },
  {
   "cell_type": "code",
   "execution_count": 11,
   "metadata": {},
   "outputs": [],
   "source": [
    "from sklearn.linear_model import LinearRegression, Lasso, Ridge\n",
    "from sklearn.metrics import mean_squared_error, mean_absolute_error, mean_absolute_percentage_error\n",
    "from math import sqrt"
   ]
  },
  {
   "cell_type": "code",
   "execution_count": 12,
   "metadata": {},
   "outputs": [],
   "source": [
    "lr = LinearRegression().fit(X_train, y_train)"
   ]
  },
  {
   "cell_type": "code",
   "execution_count": 13,
   "metadata": {},
   "outputs": [
    {
     "data": {
      "text/plain": [
       "array([ 7366.31872144, 17188.70752523,  3405.20865022, ...,\n",
       "       11871.63328973,  5542.88534125,  1487.1284297 ])"
      ]
     },
     "execution_count": 13,
     "metadata": {},
     "output_type": "execute_result"
    }
   ],
   "source": [
    "lr.predict(X_test)"
   ]
  },
  {
   "cell_type": "code",
   "execution_count": 14,
   "metadata": {},
   "outputs": [],
   "source": [
    "y_pred = lr.predict(X_test)"
   ]
  },
  {
   "cell_type": "code",
   "execution_count": 15,
   "metadata": {},
   "outputs": [
    {
     "name": "stdout",
     "output_type": "stream",
     "text": [
      "MAE: 2332.264383217121\n",
      "MSE: 13728555.489239968\n",
      "RMSE: 3705.2065380002728\n",
      "MAPE: 1.4543785747008366\n",
      "R^2: 0.687584693181398\n"
     ]
    }
   ],
   "source": [
    "print(f'MAE: {mean_absolute_error(y_test, y_pred)}')\n",
    "print(f'MSE: {mean_squared_error(y_test, y_pred)}')\n",
    "print(f'RMSE: {sqrt(mean_squared_error(y_test, y_pred))}')\n",
    "print(f'MAPE: {sqrt(mean_absolute_percentage_error(y_test, y_pred))}')\n",
    "print(f'R^2: {lr.score(X_test, y_test)}')"
   ]
  },
  {
   "cell_type": "code",
   "execution_count": 16,
   "metadata": {},
   "outputs": [
    {
     "data": {
      "text/plain": [
       "array([-1.78843262e+01,  2.15157926e+00,  8.54497672e+02,  1.06782254e+02,\n",
       "       -5.30255037e-03,  3.69208469e+02,  3.05538402e+02, -6.54479912e+02,\n",
       "        6.17487852e+02,  1.65849802e+03,  1.46154922e+02,  6.38142048e+03,\n",
       "        2.20423858e+03, -9.55161073e+02, -2.18465787e+02, -1.16487735e+02,\n",
       "        8.72265797e+01, -1.08865774e+00,  6.02147757e+02, -9.03847708e+02,\n",
       "        5.73968018e+02,  7.36481356e+02,  3.11542198e+02,  2.53401706e+02,\n",
       "        1.00218521e+03,  1.34272836e+03,  3.21010853e+02,  2.43002337e+02,\n",
       "        1.96567742e+00])"
      ]
     },
     "execution_count": 16,
     "metadata": {},
     "output_type": "execute_result"
    }
   ],
   "source": [
    "len(lr.coef_)\n",
    "lr.coef_"
   ]
  },
  {
   "cell_type": "code",
   "execution_count": 17,
   "metadata": {},
   "outputs": [
    {
     "name": "stdout",
     "output_type": "stream",
     "text": [
      "MAE: 2332.304942498558\n",
      "MSE: 13728306.677960154\n",
      "RMSE: 3705.1729619493008\n",
      "MAPE: 2.116136543216806\n",
      "R^2: 0.6875903552812732\n"
     ]
    },
    {
     "data": {
      "text/plain": [
       "array([-1.78453403e+01,  2.14985359e+00,  8.54525009e+02,  1.06787756e+02,\n",
       "       -5.30306244e-03,  3.69253845e+02,  3.05553058e+02, -6.54166465e+02,\n",
       "        6.17401606e+02,  1.65847515e+03,  1.46128401e+02,  6.36160474e+03,\n",
       "        2.20984503e+03, -9.55120541e+02, -2.18202487e+02, -1.16498212e+02,\n",
       "        8.72353495e+01, -1.08965009e+00,  6.02182166e+02, -9.04071416e+02,\n",
       "        5.73983085e+02,  7.36346361e+02,  3.11625350e+02,  2.53286438e+02,\n",
       "        1.00212675e+03,  1.34249876e+03,  3.20875055e+02,  2.42973326e+02,\n",
       "        1.96543942e+00])"
      ]
     },
     "execution_count": 17,
     "metadata": {},
     "output_type": "execute_result"
    }
   ],
   "source": [
    "# L1\n",
    "ridge = Ridge(alpha=0.5).fit(X_train, y_train)\n",
    "y_pred = ridge.predict(X_test)\n",
    "print(f'MAE: {mean_absolute_error(y_test, y_pred)}')\n",
    "print(f'MSE: {mean_squared_error(y_test, y_pred)}')\n",
    "print(f'RMSE: {sqrt(mean_squared_error(y_test, y_pred))}')\n",
    "print(f'MAPE: {mean_absolute_percentage_error(y_test, y_pred)}')\n",
    "print(f'R^2: {ridge.score(X_test, y_test)}')\n",
    "ridge.coef_"
   ]
  },
  {
   "cell_type": "code",
   "execution_count": 18,
   "metadata": {},
   "outputs": [
    {
     "name": "stdout",
     "output_type": "stream",
     "text": [
      "MAE: 2332.144573619198\n",
      "MSE: 13728434.134448102\n",
      "RMSE: 3705.1901617120952\n",
      "MAPE: 2.117658990996311\n",
      "R^2: 0.6875874548043935\n"
     ]
    },
    {
     "data": {
      "text/plain": [
       "array([-1.76393936e+01,  2.14163188e+00,  8.53395182e+02,  1.06788938e+02,\n",
       "       -5.30731570e-03,  3.69552848e+02,  3.05618890e+02, -6.40364157e+02,\n",
       "        6.15473242e+02,  1.65900729e+03,  1.45665282e+02,  6.30705300e+03,\n",
       "        2.21664967e+03, -9.53362428e+02, -2.14746576e+02, -1.16488480e+02,\n",
       "        8.72894435e+01, -1.09008561e+00,  5.96033329e+02, -9.03743522e+02,\n",
       "        5.73038971e+02,  7.35348137e+02,  3.11230860e+02,  2.51264014e+02,\n",
       "        1.00117264e+03,  1.34099161e+03,  3.18598688e+02,  2.38620345e+02,\n",
       "        1.96372926e+00])"
      ]
     },
     "execution_count": 18,
     "metadata": {},
     "output_type": "execute_result"
    }
   ],
   "source": [
    "# L2\n",
    "lasso = Lasso(alpha=0.5).fit(X_train, y_train)\n",
    "y_pred = lasso.predict(X_test)\n",
    "print(f'MAE: {mean_absolute_error(y_test, y_pred)}')\n",
    "print(f'MSE: {mean_squared_error(y_test, y_pred)}')\n",
    "print(f'RMSE: {sqrt(mean_squared_error(y_test, y_pred))}')\n",
    "print(f'MAPE: {mean_absolute_percentage_error(y_test, y_pred)}')\n",
    "print(f'R^2: {lasso.score(X_test, y_test)}')\n",
    "lasso.coef_"
   ]
  },
  {
   "cell_type": "code",
   "execution_count": 19,
   "metadata": {},
   "outputs": [],
   "source": [
    "from sklearn.model_selection import GridSearchCV, RandomizedSearchCV\n",
    "import numpy as np"
   ]
  },
  {
   "cell_type": "code",
   "execution_count": 20,
   "metadata": {},
   "outputs": [],
   "source": [
    "parameters = {'alpha': np.arange(0, 1, 0.1)}"
   ]
  },
  {
   "cell_type": "code",
   "execution_count": 21,
   "metadata": {},
   "outputs": [
    {
     "data": {
      "text/plain": [
       "{'alpha': 0.9}"
      ]
     },
     "execution_count": 21,
     "metadata": {},
     "output_type": "execute_result"
    }
   ],
   "source": [
    "ridge_optimal = RandomizedSearchCV(Ridge(), parameters).fit(X_train, y_train)\n",
    "# выводим оптимальные значения параметров\n",
    "#GridSearchCV\n",
    "ridge_optimal.best_params_"
   ]
  },
  {
   "cell_type": "code",
   "execution_count": null,
   "metadata": {},
   "outputs": [],
   "source": []
  },
  {
   "cell_type": "code",
   "execution_count": 22,
   "metadata": {},
   "outputs": [
    {
     "name": "stdout",
     "output_type": "stream",
     "text": [
      "MAE: 2332.337442295239\n",
      "MSE: 13728111.72459027\n",
      "RMSE: 3705.146653587449\n",
      "MAPE: 2.1168663360018205\n",
      "R^2: 0.6875947917579962\n"
     ]
    },
    {
     "data": {
      "text/plain": [
       "array([-1.78143074e+01,  2.14848011e+00,  8.54546623e+02,  1.06792136e+02,\n",
       "       -5.30347058e-03,  3.69289967e+02,  3.05565119e+02, -6.53916251e+02,\n",
       "        6.17332087e+02,  1.65845670e+03,  1.46107263e+02,  6.34586083e+03,\n",
       "        2.21429212e+03, -9.55088091e+02, -2.17992824e+02, -1.16506575e+02,\n",
       "        8.72423272e+01, -1.09043752e+00,  6.02209775e+02, -9.04249023e+02,\n",
       "        5.73995060e+02,  7.36238824e+02,  3.11691811e+02,  2.53194696e+02,\n",
       "        1.00208002e+03,  1.34231539e+03,  3.20766990e+02,  2.42950100e+02,\n",
       "        1.96525000e+00])"
      ]
     },
     "execution_count": 22,
     "metadata": {},
     "output_type": "execute_result"
    }
   ],
   "source": [
    "# L1\n",
    "ridge = Ridge(alpha=0.9).fit(X_train, y_train)\n",
    "y_pred = ridge.predict(X_test)\n",
    "print(f'MAE: {mean_absolute_error(y_test, y_pred)}')\n",
    "print(f'MSE: {mean_squared_error(y_test, y_pred)}')\n",
    "print(f'RMSE: {sqrt(mean_squared_error(y_test, y_pred))}')\n",
    "print(f'MAPE: {mean_absolute_percentage_error(y_test, y_pred)}')\n",
    "print(f'R^2: {ridge.score(X_test, y_test)}')\n",
    "ridge.coef_"
   ]
  },
  {
   "cell_type": "code",
   "execution_count": 23,
   "metadata": {},
   "outputs": [
    {
     "data": {
      "text/plain": [
       "array([ 7367.55732214, 17189.5048655 ,  3404.63249615, ...,\n",
       "       11871.33229638,  5543.08866727,  1486.91730948])"
      ]
     },
     "execution_count": 23,
     "metadata": {},
     "output_type": "execute_result"
    }
   ],
   "source": [
    "y_pred"
   ]
  },
  {
   "cell_type": "code",
   "execution_count": 24,
   "metadata": {},
   "outputs": [
    {
     "data": {
      "text/plain": [
       "38184     8400.00\n",
       "5006     45293.56\n",
       "1314      2750.00\n",
       "6334       700.00\n",
       "15859     4350.00\n",
       "           ...   \n",
       "10051      474.25\n",
       "15342    16900.00\n",
       "19665    10300.00\n",
       "6994      2714.60\n",
       "6114      3500.00\n",
       "Name: price_usd, Length: 7707, dtype: float64"
      ]
     },
     "execution_count": 24,
     "metadata": {},
     "output_type": "execute_result"
    }
   ],
   "source": [
    "y_test"
   ]
  },
  {
   "cell_type": "code",
   "execution_count": 25,
   "metadata": {},
   "outputs": [
    {
     "name": "stdout",
     "output_type": "stream",
     "text": [
      "MAE: 2332.0540286767687\n",
      "MSE: 13728410.36110907\n",
      "RMSE: 3705.186953597493\n",
      "MAPE: 2.1196134984530532\n",
      "R^2: 0.6875879958048661\n"
     ]
    },
    {
     "data": {
      "text/plain": [
       "array([-1.74434474e+01,  2.13367397e+00,  8.52513191e+02,  1.06794284e+02,\n",
       "       -5.31112797e-03,  3.69828350e+02,  3.05683249e+02, -6.29071520e+02,\n",
       "        6.13861617e+02,  1.65941470e+03,  1.45273571e+02,  6.24755901e+03,\n",
       "        2.22657855e+03, -9.51923513e+02, -2.11771208e+02, -1.16489077e+02,\n",
       "        8.73397346e+01, -1.09122791e+00,  5.91141787e+02, -9.03660174e+02,\n",
       "        5.72295733e+02,  7.34441561e+02,  3.10981790e+02,  2.49553860e+02,\n",
       "        1.00036259e+03,  1.33960220e+03,  3.16668956e+02,  2.35114751e+02,\n",
       "        1.96217073e+00])"
      ]
     },
     "execution_count": 25,
     "metadata": {},
     "output_type": "execute_result"
    }
   ],
   "source": [
    "# L2\n",
    "lasso = Lasso(alpha=0.9).fit(X_train, y_train)\n",
    "y_pred = lasso.predict(X_test)\n",
    "print(f'MAE: {mean_absolute_error(y_test, y_pred)}')\n",
    "print(f'MSE: {mean_squared_error(y_test, y_pred)}')\n",
    "print(f'RMSE: {sqrt(mean_squared_error(y_test, y_pred))}')\n",
    "print(f'MAPE: {mean_absolute_percentage_error(y_test, y_pred)}')\n",
    "print(f'R^2: {lasso.score(X_test, y_test)}')\n",
    "lasso.coef_"
   ]
  },
  {
   "cell_type": "markdown",
   "metadata": {},
   "source": [
    "# Полиномиальная"
   ]
  },
  {
   "cell_type": "code",
   "execution_count": 26,
   "metadata": {},
   "outputs": [],
   "source": [
    "yy = data[\"price_usd\"]\n",
    "XX = data.drop([\"price_usd\"], axis=1)"
   ]
  },
  {
   "cell_type": "code",
   "execution_count": 27,
   "metadata": {},
   "outputs": [
    {
     "data": {
      "text/plain": [
       "array([-1.81220468e+01,  2.18858726e+00,  8.35720469e+02,  1.09494063e+02,\n",
       "       -5.47687928e-03,  3.68676615e+02,  2.56272528e+02, -6.13347402e+02,\n",
       "        7.61107216e+02,  1.69254034e+03,  1.45185053e+02,  6.04636359e+03,\n",
       "        2.37403743e+03, -9.73205705e+02, -1.97772307e+02, -1.12778004e+02,\n",
       "        8.41602979e+01, -3.61912858e-01,  5.92447383e+02, -9.19761533e+02,\n",
       "        5.91326303e+02,  7.41186828e+02,  3.09695279e+02,  2.60535493e+02,\n",
       "        1.06118213e+03,  1.33028038e+03,  3.21568285e+02,  2.26687831e+02,\n",
       "        1.86936657e+00])"
      ]
     },
     "execution_count": 27,
     "metadata": {},
     "output_type": "execute_result"
    }
   ],
   "source": [
    "lr = LinearRegression().fit(XX, yy)\n",
    "lr.coef_"
   ]
  },
  {
   "cell_type": "code",
   "execution_count": 28,
   "metadata": {},
   "outputs": [],
   "source": [
    "from sklearn.preprocessing import PolynomialFeatures"
   ]
  },
  {
   "cell_type": "code",
   "execution_count": 29,
   "metadata": {},
   "outputs": [
    {
     "data": {
      "text/plain": [
       "array([[1.00000e+00, 0.00000e+00, 0.00000e+00, ..., 1.00000e+00,\n",
       "        1.60000e+01, 2.56000e+02],\n",
       "       [1.00000e+00, 0.00000e+00, 0.00000e+00, ..., 1.00000e+00,\n",
       "        8.30000e+01, 6.88900e+03],\n",
       "       [1.00000e+00, 0.00000e+00, 1.00000e+00, ..., 1.00000e+00,\n",
       "        1.51000e+02, 2.28010e+04],\n",
       "       ...,\n",
       "       [1.00000e+00, 5.40000e+01, 1.10800e+03, ..., 1.00000e+00,\n",
       "        3.69000e+02, 1.36161e+05],\n",
       "       [1.00000e+00, 5.40000e+01, 1.11100e+03, ..., 1.00000e+00,\n",
       "        4.90000e+02, 2.40100e+05],\n",
       "       [1.00000e+00, 5.40000e+01, 1.10600e+03, ..., 1.00000e+00,\n",
       "        6.32000e+02, 3.99424e+05]])"
      ]
     },
     "execution_count": 29,
     "metadata": {},
     "output_type": "execute_result"
    }
   ],
   "source": [
    "# создаем объект, который позволит расширить множество предикторов\n",
    "pf = PolynomialFeatures(2)  \n",
    "# добавляем новые предикторы\n",
    "X_p=pf.fit_transform(XX) \n",
    "X_p"
   ]
  },
  {
   "cell_type": "code",
   "execution_count": 30,
   "metadata": {},
   "outputs": [
    {
     "data": {
      "text/plain": [
       "array([ 6.64651692e+04,  2.53066635e+03, -1.76051382e+02, -1.79993458e+05,\n",
       "       -1.67894414e+03,  6.58124852e-01, -4.95092044e+04, -1.24079325e+05,\n",
       "        5.42514260e+04, -9.48506671e+04, -3.18185122e+05, -5.86313681e+03,\n",
       "       -4.50912856e+05,  3.61715683e+05,  7.59905779e+04, -2.34170365e+03,\n",
       "        6.26410193e+03, -5.19060131e+03, -1.13080215e+02, -6.27047856e+04,\n",
       "        2.41816441e+04, -8.04494461e+04, -6.24444504e+04, -2.37995656e+04,\n",
       "       -1.62265090e+04, -1.61729617e+05, -2.97294697e+04, -9.10193300e+04,\n",
       "        5.17730164e+04, -2.21020288e+02,  3.22611677e+00, -7.32864357e-02,\n",
       "        3.51137900e+00,  8.65977016e-01, -2.34624313e-05, -1.40193656e+00,\n",
       "       -2.60872345e+02,  2.60608297e+02,  5.72149790e+02,  3.90749414e+01,\n",
       "       -1.94818890e+00, -7.96384028e+01, -4.09732114e+01, -2.96789444e+00,\n",
       "       -4.51385705e+00, -9.15289964e-01,  3.74090756e-01,  1.67603668e-01,\n",
       "       -1.54732554e+01,  3.27374447e+00,  1.50468318e-01,  2.10750763e+00,\n",
       "       -6.02183761e+00, -2.10236056e+00, -2.17666710e+00, -6.54095755e+00,\n",
       "       -2.33416940e+00,  8.60853628e+00,  1.09940051e-03, -7.49532029e-03,\n",
       "        1.65208201e-01,  2.65416512e-02, -3.62726496e-07,  9.65079208e-02,\n",
       "        1.20108472e+01, -1.18561749e+01, -2.57084802e+01, -2.21491935e+00,\n",
       "        6.40738053e-02,  4.93601334e+00,  4.94072939e+00,  7.17299134e-01,\n",
       "        5.30898639e-02,  1.45534335e-02,  2.53956319e-04, -6.70054421e-03,\n",
       "        1.07989452e+00, -4.54293851e-01,  1.17763457e-01,  3.61203249e-01,\n",
       "        4.72499533e-01,  4.13894412e-02,  6.24481529e-01,  5.72389948e-01,\n",
       "        1.96826264e-02, -5.35063909e-01,  2.34196341e-04, -1.91296408e+05,\n",
       "        5.06165431e+01,  1.33206500e-04,  1.85126214e+02,  2.31962099e+02,\n",
       "        5.99570783e+01, -7.16922181e+02,  2.15196426e+02, -4.53421860e+01,\n",
       "       -2.30090578e+03,  8.45681085e+02,  2.64512894e+02,  3.54271060e+01,\n",
       "        2.82781487e+01, -4.18174019e+00,  3.82312637e-01,  1.31746777e+02,\n",
       "       -6.06540109e+02,  8.15272932e+01,  1.62592431e+02,  3.57403635e+02,\n",
       "       -1.87637680e+02, -1.36138886e+02, -2.19322133e+02, -5.42336450e+02,\n",
       "        1.62935237e+02,  6.01856755e-01, -3.39068923e+00, -1.10339985e-04,\n",
       "        8.07023004e-01, -3.81957742e+01,  4.22742113e+01,  1.25945430e+02,\n",
       "        2.57106322e+01, -8.65136829e-01, -1.39004880e+01, -9.05186937e+01,\n",
       "       -9.96088192e+00,  1.60785530e+01, -3.17356620e+00,  2.45254533e+00,\n",
       "        7.68643253e-03,  1.71983450e+01, -1.31727668e+01,  3.44243008e+01,\n",
       "       -1.08068901e+01,  1.54547173e+00,  7.66890513e+00, -3.07396207e+01,\n",
       "        2.73801684e+01, -2.70436294e+01,  2.00732436e+00,  5.89726700e-02,\n",
       "       -4.34738467e-10, -3.27329995e-04,  6.83178285e-04,  1.97379231e-03,\n",
       "       -8.10874008e-06, -2.27823448e-03,  9.32574039e-05,  1.18372297e-02,\n",
       "        1.42611341e-03,  1.24541661e-03,  2.93206707e-04,  2.99877313e-04,\n",
       "       -1.40290533e-04, -4.37645213e-07, -1.19614322e-03,  1.29351269e-03,\n",
       "       -1.62351032e-03, -3.50014885e-04, -1.11987498e-03,  5.36580126e-04,\n",
       "        1.42086444e-03, -2.63738961e-03,  1.27785377e-03, -8.10003770e-04,\n",
       "       -2.93409175e-06,  1.23811105e+01,  5.41120894e+01, -7.67421346e+01,\n",
       "        6.21291866e+01,  1.60379532e+02,  2.79683088e+00,  4.47780605e+02,\n",
       "       -1.85772555e+02, -3.95060219e+01,  2.32065895e+00, -3.07642860e+00,\n",
       "        2.58080244e+00,  5.64556002e-02,  6.28789832e+01, -2.40860215e+01,\n",
       "        8.11301629e+01,  6.24572650e+01,  2.37668432e+01,  1.62656114e+01,\n",
       "        1.60450915e+02,  2.99146256e+01,  9.07256557e+01, -5.17042401e+01,\n",
       "        1.09659517e-01,  5.90847281e+03,  5.41406083e+04, -1.89760481e+04,\n",
       "       -6.33810052e+01,  8.65717309e+01, -3.80801148e+02,  3.15038300e+03,\n",
       "       -2.96267754e+02, -5.99075962e+01, -3.87297718e+00, -8.98742872e+00,\n",
       "       -2.81521640e+00, -1.68503570e+02,  1.92762031e+02, -2.42478450e+02,\n",
       "       -1.55862069e+02,  1.02715600e+02,  6.64540161e+01, -8.42312118e+01,\n",
       "       -1.00148795e+02, -1.77467595e+02,  2.21116190e+02, -2.73404706e-01,\n",
       "        5.41406084e+04, -2.38003304e-06, -6.30301962e+01,  1.29947208e+00,\n",
       "        1.07387677e-07, -3.85188265e+03,  4.05801912e+01,  8.48410317e+01,\n",
       "        3.20171908e+01,  2.41139183e+01,  9.05308195e-01,  1.63564018e+02,\n",
       "       -1.23822216e+01,  5.13792737e+02,  3.89712807e+02,  2.01006345e+02,\n",
       "       -1.95482836e+02,  3.85448273e+02, -1.10699357e+01,  1.47335029e+02,\n",
       "       -4.43532521e+02,  4.01447157e-01,  1.30500015e+04,  1.74295899e+03,\n",
       "        2.72354218e+01, -1.90400575e+02, -6.94612303e+03,  1.73858511e+02,\n",
       "        1.46634716e+02,  3.93119223e+01,  2.13501154e+01,  6.07125464e+00,\n",
       "        3.73337395e+02, -9.69102127e+02,  5.61952731e+02,  2.26961905e+02,\n",
       "       -1.50034208e+02, -5.30046103e+01,  2.33754960e+02,  4.96177920e+02,\n",
       "       -1.20115046e+01, -3.80294197e+02,  1.32144431e+00, -2.18470607e+02,\n",
       "       -2.35808096e+01,  2.04214547e+03, -1.00623639e+03,  3.36140664e+01,\n",
       "       -1.47376203e+02, -9.66577109e+01,  2.64432353e+01, -1.23654281e+00,\n",
       "       -1.54023659e+02, -1.59148069e+02, -5.51189743e+02, -1.95288880e+02,\n",
       "        7.94223865e+01, -1.21314142e+02,  3.43602878e+02,  3.45647289e+02,\n",
       "        1.25710410e+02, -8.49004591e+01,  1.40259154e+00,  3.34019795e+01,\n",
       "        2.85780416e+02, -1.76933748e+02,  1.03110678e+02,  6.03402741e+00,\n",
       "       -3.31149999e+00,  5.77499852e+00,  6.55531467e-01, -5.63014583e+01,\n",
       "        2.49172836e+01, -1.78486340e+01,  3.27208744e+01, -1.17465485e+01,\n",
       "       -2.20167670e+01,  2.66345772e+01, -1.60701619e+00,  2.52770723e+01,\n",
       "       -9.64276551e+00, -9.24419959e-02, -4.50868563e+05, -1.43902949e+03,\n",
       "       -2.30377508e+03,  2.17460699e+03, -3.19852578e+02,  2.10585445e+02,\n",
       "       -7.09562278e+00, -9.26602114e+03, -1.55502679e+03, -2.09665979e+03,\n",
       "        3.26730563e+02,  7.21408349e+02, -3.55717212e+03, -2.17757473e+03,\n",
       "       -8.79686373e+02,  1.64885706e+03, -1.90739296e+02, -2.96528635e+00,\n",
       "        9.37118060e+03, -1.34191267e+03, -2.71811167e+02, -2.00465662e+02,\n",
       "        1.12320594e+02,  1.48671215e+00,  3.87480128e+02,  8.36371135e+01,\n",
       "       -2.39006599e+02, -1.68798808e+03,  1.14859214e+03,  4.04019422e+01,\n",
       "       -4.94937130e+02, -1.47609241e+03, -5.90434517e+02,  1.10369491e+03,\n",
       "        1.70134155e-01,  8.41934593e+02, -2.59834546e+01,  2.89639424e+01,\n",
       "       -2.35339229e+00, -2.38017302e+00, -1.64922256e+02,  2.48306902e+02,\n",
       "        5.20758068e+01, -1.75207409e+01, -3.84648250e+00, -1.60927016e+01,\n",
       "       -1.28298023e+02, -3.08696303e+02,  2.80038835e+02, -3.13341222e+01,\n",
       "        8.45546057e-01, -2.34149030e+03, -1.00578089e+01,  1.66469885e+01,\n",
       "       -5.34386141e-01,  1.63773027e+02,  1.54310603e+01,  2.52784374e+02,\n",
       "       -8.39309024e+01,  8.99109941e-01, -2.23515919e+01,  4.30397041e+02,\n",
       "       -6.08778658e+01,  5.89212119e+01, -5.98763579e+01, -2.42464636e-01,\n",
       "       -7.86510090e-01, -2.64094001e+00, -2.77284459e-01, -2.22745194e+01,\n",
       "        2.59339344e+01, -5.82085443e+01,  2.19254585e+01, -1.76569031e+01,\n",
       "       -4.67742080e+00,  7.66043358e+00, -5.17138705e+01,  1.94548714e+01,\n",
       "       -3.12290429e+00,  3.65428970e-02,  1.69400691e-01,  8.77969865e-02,\n",
       "        1.25901318e+01, -9.05378676e+00,  5.91341689e-01,  1.36570943e+00,\n",
       "        1.60138600e+01, -6.64464053e+00, -4.21840887e+00,  1.02930086e+01,\n",
       "       -2.44630328e+01,  9.90467544e+00, -1.50962071e-02, -1.66646094e-03,\n",
       "        8.08746486e-01, -1.58696947e+00,  1.21617112e+00,  6.71410536e-01,\n",
       "        7.31085172e-01, -1.46578255e+00,  2.35532014e-01, -1.63212277e+00,\n",
       "        1.49485489e+00,  7.94473861e-01,  2.43550137e-03, -6.27293914e+04,\n",
       "        1.98342605e-08, -1.32746209e-07,  1.71712600e-08,  2.13331077e-08,\n",
       "       -1.60071068e-08,  1.94631866e-08,  2.16823537e-09,  1.80443749e-08,\n",
       "       -2.49274308e-08,  5.01214008e-01,  2.41960850e+04,  1.40364253e+02,\n",
       "        3.99502941e+01, -9.45538119e+01,  2.29142987e+02,  4.38141206e+02,\n",
       "       -1.94971812e+02,  1.54205636e+02,  2.71106620e+02, -2.21118272e-01,\n",
       "       -8.04321236e+04,  6.74355672e+01,  3.81555285e+02, -1.11443146e+02,\n",
       "       -2.16757379e+02,  3.64373263e+00, -4.07807639e+02,  1.57372551e+00,\n",
       "       -3.70703025e-01, -6.24183598e+04,  1.29592255e+02, -2.37437513e+02,\n",
       "        6.22367730e+01,  1.60570306e+01, -1.08374918e+02, -8.92906948e+00,\n",
       "       -3.72649489e-01, -2.38049407e+04, -3.98950998e+01,  4.43958287e+02,\n",
       "       -2.08666159e+01, -1.14562820e+02, -1.63254741e+02, -3.33671650e-01,\n",
       "       -1.62448673e+04,  2.26506473e+01, -2.48590276e+01,  4.29288950e+01,\n",
       "        3.35872072e+02, -6.23490235e-01, -1.61766957e+05, -4.51011263e+02,\n",
       "       -1.78314885e+02,  1.07883868e+02,  9.60680817e-01, -2.97363610e+04,\n",
       "       -1.35612416e+02,  1.85437205e+02, -1.53903480e-01, -9.10492986e+04,\n",
       "        4.11563554e+02, -2.38099888e-01,  5.17665141e+04,  4.53936448e-01,\n",
       "       -8.50106862e-04])"
      ]
     },
     "execution_count": 30,
     "metadata": {},
     "output_type": "execute_result"
    }
   ],
   "source": [
    "lr2 = LinearRegression().fit(X_p, yy)\n",
    "lr2.coef_"
   ]
  },
  {
   "cell_type": "code",
   "execution_count": 32,
   "metadata": {},
   "outputs": [
    {
     "name": "stdout",
     "output_type": "stream",
     "text": [
      "MAE: 2332.0540286767687\n",
      "RMSE: 13728410.36110907\n",
      "MSE: 3705.186953597493\n",
      "MAPE: 1.036170554879724\n",
      "R^2: 0.8458302973808837\n"
     ]
    }
   ],
   "source": [
    "polynomial_regression_classic = LinearRegression().fit(PolynomialFeatures(2).fit_transform(X_train), y_train)\n",
    "y_predicted = polynomial_regression_classic.predict(PolynomialFeatures(2).fit_transform(X_test))\n",
    "print(f\"MAE: {mean_absolute_error(y_pred, y_test)}\",\n",
    "      f'RMSE: {mean_squared_error(y_pred, y_test)}',\n",
    "      f'MSE: {mean_squared_error(y_pred, y_test)**0.5}',\n",
    "      f'MAPE: {mean_absolute_percentage_error(y_pred, y_test)}',\n",
    "      f'R^2: {polynomial_regression_classic.score(PolynomialFeatures(2).fit_transform(X_test), y_test)}',\n",
    "      sep='\\n')"
   ]
  },
  {
   "cell_type": "code",
   "execution_count": null,
   "metadata": {},
   "outputs": [],
   "source": []
  },
  {
   "cell_type": "code",
   "execution_count": null,
   "metadata": {},
   "outputs": [],
   "source": []
  }
 ],
 "metadata": {
  "kernelspec": {
   "display_name": "Python 3 (ipykernel)",
   "language": "python",
   "name": "python3"
  },
  "language_info": {
   "codemirror_mode": {
    "name": "ipython",
    "version": 3
   },
   "file_extension": ".py",
   "mimetype": "text/x-python",
   "name": "python",
   "nbconvert_exporter": "python",
   "pygments_lexer": "ipython3",
   "version": "3.10.4"
  },
  "vscode": {
   "interpreter": {
    "hash": "4144813e17b6f5f448ed6aaed98153edd3ff37cd658fee1dbd1b201beaf41009"
   }
  }
 },
 "nbformat": 4,
 "nbformat_minor": 2
}
